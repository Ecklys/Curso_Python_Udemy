{
 "cells": [
  {
   "cell_type": "markdown",
   "metadata": {},
   "source": [
    "### PIP\n",
    "\n",
    "Herramienta utilizada para instalar paquetes y librerias en Python"
   ]
  },
  {
   "cell_type": "markdown",
   "metadata": {},
   "source": [
    "### Modules\n",
    "\n",
    "Archivos .py que contienen definiciones de funciones, los cuales pueden ser invocados desde otro archivo .py importandolo"
   ]
  },
  {
   "cell_type": "markdown",
   "metadata": {},
   "source": [
    "### Packages\n",
    "\n",
    "Recoleccion de modules, los cuales son organizados en una carpeta para su posterior importación e invocación. <br>\n",
    "*Nota*: es necesario tener en cada folder y subfolder de un package un archivo **\\_\\_init\\_\\_.py**. <br>\n",
    "\n",
    "Para invocar un package se utiliza la sgte sintaxis."
   ]
  },
  {
   "cell_type": "code",
   "execution_count": 1,
   "metadata": {},
   "outputs": [],
   "source": [
    "# from Some_Package import Some_Module\n",
    "# from Some_Package.Sub_Package import Some_Module"
   ]
  },
  {
   "cell_type": "markdown",
   "metadata": {},
   "source": [
    "### \\_\\_name\\_\\_ and \"\\_\\_main\\_\\_\"\n",
    "\n",
    "Se utilizan para ordenamiento de código, **\\_\\_name\\_\\_** corresponde a una built-in variable, la cual por defecto posee el valor **\\_\\_main\\_\\_** cuando el script que lo contiene es ejecutado directamente. <br>\n",
    "Es comun utilizarlo en un bloque:"
   ]
  },
  {
   "cell_type": "code",
   "execution_count": 4,
   "metadata": {},
   "outputs": [],
   "source": [
    "if __name__ == \"__main__\":\n",
    "    pass"
   ]
  },
  {
   "cell_type": "markdown",
   "metadata": {},
   "source": [
    "Para organizar el código principal a ejecutar, similar a **main()** en otros lenguajes de programación"
   ]
  },
  {
   "cell_type": "code",
   "execution_count": null,
   "metadata": {},
   "outputs": [],
   "source": []
  }
 ],
 "metadata": {
  "kernelspec": {
   "display_name": "Python 3",
   "language": "python",
   "name": "python3"
  },
  "language_info": {
   "codemirror_mode": {
    "name": "ipython",
    "version": 3
   },
   "file_extension": ".py",
   "mimetype": "text/x-python",
   "name": "python",
   "nbconvert_exporter": "python",
   "pygments_lexer": "ipython3",
   "version": "3.8.5"
  }
 },
 "nbformat": 4,
 "nbformat_minor": 4
}
