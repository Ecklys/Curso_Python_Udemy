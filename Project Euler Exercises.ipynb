{
 "cells": [
  {
   "cell_type": "markdown",
   "metadata": {},
   "source": [
    "**1.-** Suma multiplos de 3 y 5"
   ]
  },
  {
   "cell_type": "code",
   "execution_count": 35,
   "metadata": {},
   "outputs": [],
   "source": [
    "def crear_lista(numero):\n",
    "    resultado = 0\n",
    "    for elem in range(1,numero):\n",
    "        if (elem % 3 == 0) or (elem % 5 == 0):\n",
    "            resultado += elem\n",
    "    return resultado       \n",
    "        "
   ]
  },
  {
   "cell_type": "code",
   "execution_count": null,
   "metadata": {},
   "outputs": [],
   "source": [
    "crear_lista(1000)"
   ]
  },
  {
   "cell_type": "markdown",
   "metadata": {},
   "source": [
    "**2.-** Suma de numero pares de la secuencia de Fibonacci (donde resultado es menor a 4.000.000)"
   ]
  },
  {
   "cell_type": "code",
   "execution_count": 84,
   "metadata": {},
   "outputs": [],
   "source": [
    "def suma_pares_fibonacci(limite):\n",
    "    resultado = 0\n",
    "    actual = 1\n",
    "    previo = 0\n",
    "    while actual <= limite: \n",
    "        if (actual % 2 == 0):\n",
    "            resultado += actual        \n",
    "        actual += previo\n",
    "        previo = actual - previo        \n",
    "    return resultado    \n",
    "        "
   ]
  },
  {
   "cell_type": "code",
   "execution_count": 85,
   "metadata": {},
   "outputs": [
    {
     "data": {
      "text/plain": [
       "4613732"
      ]
     },
     "execution_count": 85,
     "metadata": {},
     "output_type": "execute_result"
    }
   ],
   "source": [
    "suma_pares_fibonacci(4000000)"
   ]
  },
  {
   "cell_type": "markdown",
   "metadata": {},
   "source": [
    "**3.-** Factor primo más grande"
   ]
  },
  {
   "cell_type": "code",
   "execution_count": 151,
   "metadata": {},
   "outputs": [],
   "source": [
    "def factor_primo(numero):   \n",
    "    if numero < 2\n",
    "        return 0 \n",
    "    factores_primos = [2]\n",
    "    x = 3\n",
    "    for es_factor in factores_primos:\n",
    "        if x % es_factor == 0:\n",
    "            x += 2\n",
    "            break\n",
    "    else:\n",
    "        factores_primos.append(x)\n",
    "        x += 2\n",
    "    return factores_primos[-1]\n",
    "        "
   ]
  },
  {
   "cell_type": "code",
   "execution_count": null,
   "metadata": {},
   "outputs": [],
   "source": [
    "factor_primo(600851475143)"
   ]
  },
  {
   "cell_type": "code",
   "execution_count": null,
   "metadata": {},
   "outputs": [],
   "source": []
  }
 ],
 "metadata": {
  "kernelspec": {
   "display_name": "Python 3",
   "language": "python",
   "name": "python3"
  },
  "language_info": {
   "codemirror_mode": {
    "name": "ipython",
    "version": 3
   },
   "file_extension": ".py",
   "mimetype": "text/x-python",
   "name": "python",
   "nbconvert_exporter": "python",
   "pygments_lexer": "ipython3",
   "version": "3.8.5"
  }
 },
 "nbformat": 4,
 "nbformat_minor": 4
}
