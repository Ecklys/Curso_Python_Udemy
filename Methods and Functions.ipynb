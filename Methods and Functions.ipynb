{
 "cells": [
  {
   "cell_type": "markdown",
   "metadata": {},
   "source": [
    "### Help function:\n",
    "Permite obtener información de ayuda acerca de un metodo en particular."
   ]
  },
  {
   "cell_type": "code",
   "execution_count": 1,
   "metadata": {},
   "outputs": [
    {
     "name": "stdout",
     "output_type": "stream",
     "text": [
      "Help on built-in function append:\n",
      "\n",
      "append(object, /) method of builtins.list instance\n",
      "    Append object to the end of the list.\n",
      "\n"
     ]
    }
   ],
   "source": [
    "my_list = []\n",
    "help(my_list.append)"
   ]
  },
  {
   "cell_type": "markdown",
   "metadata": {},
   "source": [
    "Es posible asignar valores por defecto a una funcion"
   ]
  },
  {
   "cell_type": "code",
   "execution_count": 1,
   "metadata": {},
   "outputs": [],
   "source": [
    "def sumar_dos_numeros(x = 5,y = 7):\n",
    "    return (x + y)"
   ]
  },
  {
   "cell_type": "code",
   "execution_count": 2,
   "metadata": {},
   "outputs": [
    {
     "data": {
      "text/plain": [
       "12"
      ]
     },
     "execution_count": 2,
     "metadata": {},
     "output_type": "execute_result"
    }
   ],
   "source": [
    "sumar_dos_numeros()"
   ]
  },
  {
   "cell_type": "code",
   "execution_count": 3,
   "metadata": {},
   "outputs": [
    {
     "data": {
      "text/plain": [
       "35"
      ]
     },
     "execution_count": 3,
     "metadata": {},
     "output_type": "execute_result"
    }
   ],
   "source": [
    "sumar_dos_numeros(10,25)"
   ]
  },
  {
   "cell_type": "markdown",
   "metadata": {},
   "source": [
    "## Tuple unpacking in functions\n",
    "\n",
    "El retorno de una función puede ser una tupla"
   ]
  },
  {
   "cell_type": "code",
   "execution_count": 13,
   "metadata": {},
   "outputs": [],
   "source": [
    "lista_precios = [(\"Manzana\",100),(\"Naranja\",250),(\"Platano\",200)]"
   ]
  },
  {
   "cell_type": "code",
   "execution_count": 14,
   "metadata": {},
   "outputs": [],
   "source": [
    "def fruta_mas_cara(listado):    \n",
    "    mayor_precio = 0\n",
    "    fruta_mas_cara = \"\"\n",
    "    for fruta,precio in listado:\n",
    "        if precio > mayor_precio:\n",
    "            mayor_precio = precio\n",
    "            fruta_mas_cara = fruta\n",
    "            \n",
    "    return (fruta_mas_cara,mayor_precio)"
   ]
  },
  {
   "cell_type": "code",
   "execution_count": 15,
   "metadata": {},
   "outputs": [
    {
     "data": {
      "text/plain": [
       "('Naranja', 250)"
      ]
     },
     "execution_count": 15,
     "metadata": {},
     "output_type": "execute_result"
    }
   ],
   "source": [
    "fruta_mas_cara(lista_precios)"
   ]
  },
  {
   "cell_type": "markdown",
   "metadata": {},
   "source": [
    "El retorno se puede asignar a una tupla de elementos:"
   ]
  },
  {
   "cell_type": "code",
   "execution_count": 16,
   "metadata": {},
   "outputs": [],
   "source": [
    "fruta, precio = fruta_mas_cara(lista_precios)"
   ]
  },
  {
   "cell_type": "code",
   "execution_count": 17,
   "metadata": {},
   "outputs": [
    {
     "data": {
      "text/plain": [
       "'Naranja'"
      ]
     },
     "execution_count": 17,
     "metadata": {},
     "output_type": "execute_result"
    }
   ],
   "source": [
    "fruta"
   ]
  },
  {
   "cell_type": "code",
   "execution_count": 18,
   "metadata": {},
   "outputs": [
    {
     "data": {
      "text/plain": [
       "250"
      ]
     },
     "execution_count": 18,
     "metadata": {},
     "output_type": "execute_result"
    }
   ],
   "source": [
    "precio"
   ]
  },
  {
   "cell_type": "markdown",
   "metadata": {},
   "source": [
    "## \\*args & \\*\\*kwargs\n",
    "arguments y keyword arguments: Permiten aceptar un numero arbitrario de parametros\n",
    "\n",
    "Hasta ahora, si necesitamos un número x de parametros la forma de hacerlo es declarando cada uno en la función de la siguiente manera:"
   ]
  },
  {
   "cell_type": "code",
   "execution_count": 9,
   "metadata": {},
   "outputs": [],
   "source": [
    "def myfunc(a,b,c=0,d=0):\n",
    "    return sum((a,b,c,d))*0.05"
   ]
  },
  {
   "cell_type": "code",
   "execution_count": 11,
   "metadata": {},
   "outputs": [
    {
     "data": {
      "text/plain": [
       "9.0"
      ]
     },
     "execution_count": 11,
     "metadata": {},
     "output_type": "execute_result"
    }
   ],
   "source": [
    "myfunc(40,60,80)"
   ]
  },
  {
   "cell_type": "markdown",
   "metadata": {},
   "source": [
    "En cambio, utilizando \\*args (args puede ser cualquier nombre, pero por convencion se utiliza args)"
   ]
  },
  {
   "cell_type": "code",
   "execution_count": 15,
   "metadata": {},
   "outputs": [],
   "source": [
    "def myfunc(*args):\n",
    "    return sum(args)*0.05"
   ]
  },
  {
   "cell_type": "code",
   "execution_count": 16,
   "metadata": {},
   "outputs": [
    {
     "data": {
      "text/plain": [
       "14.0"
      ]
     },
     "execution_count": 16,
     "metadata": {},
     "output_type": "execute_result"
    }
   ],
   "source": [
    "myfunc(5,10,20,35,50,60,100)"
   ]
  },
  {
   "cell_type": "markdown",
   "metadata": {},
   "source": [
    "Por otra parte \\*\\*kwargs crea un diccionario conlos elementos ingresados"
   ]
  },
  {
   "cell_type": "code",
   "execution_count": 19,
   "metadata": {},
   "outputs": [],
   "source": [
    "def myfunc(**kwargs):\n",
    "    if \"fruta\" in kwargs:\n",
    "        print(\"Me gusta la {}\".format(kwargs[\"fruta\"]))\n",
    "    else:\n",
    "        print(\"No quiero nada\")"
   ]
  },
  {
   "cell_type": "code",
   "execution_count": 21,
   "metadata": {},
   "outputs": [
    {
     "name": "stdout",
     "output_type": "stream",
     "text": [
      "Me gusta la Manzana\n"
     ]
    }
   ],
   "source": [
    "myfunc(fruta = \"Manzana\",vegetal = \"Lechuga\")"
   ]
  },
  {
   "cell_type": "markdown",
   "metadata": {},
   "source": [
    "## Ejercicios"
   ]
  },
  {
   "cell_type": "markdown",
   "metadata": {},
   "source": [
    "**1.-** Retornar el menor de dos numeros si ambos son pares, en caso contrario retornar el mayor entre ambos."
   ]
  },
  {
   "cell_type": "code",
   "execution_count": 118,
   "metadata": {},
   "outputs": [],
   "source": [
    "def comparar_num(a,b):\n",
    "    #Comparamos si ambos numeros son pares\n",
    "    if (a % 2 == 0) and (b % 2 == 0):\n",
    "        #Es posible utilizar la funcion min o max\n",
    "        return min(a,b)\n",
    "    else:\n",
    "        return max(a,b)"
   ]
  },
  {
   "cell_type": "code",
   "execution_count": 120,
   "metadata": {},
   "outputs": [
    {
     "data": {
      "text/plain": [
       "3"
      ]
     },
     "execution_count": 120,
     "metadata": {},
     "output_type": "execute_result"
    }
   ],
   "source": [
    "comparar_num(2,3)"
   ]
  },
  {
   "cell_type": "markdown",
   "metadata": {},
   "source": [
    "**2.-** Escribir una función que acepte un string con dos palabras y retorne True si ambas palabras comienzan con la misma letra."
   ]
  },
  {
   "cell_type": "code",
   "execution_count": 134,
   "metadata": {},
   "outputs": [],
   "source": [
    "def primera_letra_igual(str1):\n",
    "    # Separamos las palabras en una lista y las convertimos en minusculas\n",
    "    palabras = str1.lower().split()\n",
    "    # Retornamos verdadero si el primer caracter de cada palabra es igual\n",
    "    return (palabras[0][0] == palabras[1][0])\n",
    " "
   ]
  },
  {
   "cell_type": "code",
   "execution_count": 133,
   "metadata": {},
   "outputs": [
    {
     "data": {
      "text/plain": [
       "True"
      ]
     },
     "execution_count": 133,
     "metadata": {},
     "output_type": "execute_result"
    }
   ],
   "source": [
    "primera_letra_igual(\"Krazy Kangaroo\")"
   ]
  },
  {
   "cell_type": "markdown",
   "metadata": {},
   "source": [
    "**3.-** Dados dos enteros, retornar True si la suma de ambos es 20, o si uno de ambos numeros es 20"
   ]
  },
  {
   "cell_type": "code",
   "execution_count": 137,
   "metadata": {},
   "outputs": [],
   "source": [
    "def hace_veinte(num1,num2):\n",
    "    return (num1+num2 == 20) or (num1 == 20) or (num2 == 20)"
   ]
  },
  {
   "cell_type": "code",
   "execution_count": 131,
   "metadata": {},
   "outputs": [
    {
     "data": {
      "text/plain": [
       "True"
      ]
     },
     "execution_count": 131,
     "metadata": {},
     "output_type": "execute_result"
    }
   ],
   "source": [
    "hace_veinte(17,3)"
   ]
  },
  {
   "cell_type": "markdown",
   "metadata": {},
   "source": [
    "**4.-** Escribir funcion que capitalize la primera y cuarta letra de un nombre"
   ]
  },
  {
   "cell_type": "code",
   "execution_count": 39,
   "metadata": {},
   "outputs": [],
   "source": [
    "def capitalizar_letras(nombre):\n",
    "    nombre_capitalizado = \"\"\n",
    "    for indice,letra in enumerate(nombre):\n",
    "        # Capitalizamos la primera y cuarta letra, si existen\n",
    "        if indice == 0 or indice == 3:\n",
    "            nombre_capitalizado += nombre[indice].upper()\n",
    "        else:\n",
    "            nombre_capitalizado += nombre[indice]\n",
    "    return nombre_capitalizado\n",
    "\n",
    "        "
   ]
  },
  {
   "cell_type": "code",
   "execution_count": 69,
   "metadata": {},
   "outputs": [
    {
     "data": {
      "text/plain": [
       "'SebAstian'"
      ]
     },
     "execution_count": 69,
     "metadata": {},
     "output_type": "execute_result"
    }
   ],
   "source": [
    "capitalizar_letras(\"Sebastian\")"
   ]
  },
  {
   "cell_type": "markdown",
   "metadata": {},
   "source": [
    "**5.-** Revertir el orden de las palabras de una sentencia"
   ]
  },
  {
   "cell_type": "code",
   "execution_count": 50,
   "metadata": {},
   "outputs": [],
   "source": [
    "def revertir_sentencia(sentencia):\n",
    "    #Separamos las palabras, asignandolas a un listado\n",
    "    palabras = sentencia.split()\n",
    "    #Invertimos el orden de las palabras\n",
    "    palabras.reverse()\n",
    "    #Retornarmos la union de las palabras en el nuevo orden\n",
    "    return \" \".join(palabras)"
   ]
  },
  {
   "cell_type": "code",
   "execution_count": 51,
   "metadata": {},
   "outputs": [
    {
     "data": {
      "text/plain": [
       "'Sebastian es nombre Mi'"
      ]
     },
     "execution_count": 51,
     "metadata": {},
     "output_type": "execute_result"
    }
   ],
   "source": [
    "revertir_sentencia(\"Mi nombre es Sebastian\")"
   ]
  },
  {
   "cell_type": "markdown",
   "metadata": {},
   "source": [
    "**6.-** Dado un entero n, retornar True si n esta dentro de 10 numeros alrededor de 100 o 200."
   ]
  },
  {
   "cell_type": "code",
   "execution_count": 140,
   "metadata": {},
   "outputs": [],
   "source": [
    "def cerca_del_numero(num):\n",
    "    #abs calcula el valor absoluto de un número\n",
    "    return (abs(100-num) <= 10) or (abs(200-num) <= 10)  "
   ]
  },
  {
   "cell_type": "code",
   "execution_count": 141,
   "metadata": {},
   "outputs": [
    {
     "data": {
      "text/plain": [
       "True"
      ]
     },
     "execution_count": 141,
     "metadata": {},
     "output_type": "execute_result"
    }
   ],
   "source": [
    "cerca_del_numero(95)"
   ]
  },
  {
   "cell_type": "markdown",
   "metadata": {},
   "source": [
    "**7.-** Dada una lista de enteros, retornar True si la lista contiene un 3 al lado de otro 3"
   ]
  },
  {
   "cell_type": "code",
   "execution_count": 72,
   "metadata": {},
   "outputs": [],
   "source": [
    "def tiene_33(numeros):\n",
    "    #Recorremos la lista buscando un 3, en caso que no haya retornamos False\n",
    "    for indice,numero in enumerate(numeros):\n",
    "        #Si el numero es 3, verificamos que no sea el último elemento\n",
    "        if numero == 3:\n",
    "            if indice == len(numeros)-1:\n",
    "                return False\n",
    "            #Si el número siguiente es 3 entonces retornarmos True\n",
    "            elif numeros[indice+1] == 3:\n",
    "                return True\n",
    "    return False        \n",
    "        "
   ]
  },
  {
   "cell_type": "code",
   "execution_count": 78,
   "metadata": {},
   "outputs": [
    {
     "data": {
      "text/plain": [
       "True"
      ]
     },
     "execution_count": 78,
     "metadata": {},
     "output_type": "execute_result"
    }
   ],
   "source": [
    "tiene_33([1,3,1,1,1,2,5,6,7,3,3,1,33,123,54321,3,2,3,3])"
   ]
  },
  {
   "cell_type": "markdown",
   "metadata": {},
   "source": [
    "**8.-** Dado un string retornar un nuevo string donde se repita 3 veces cada letra del original"
   ]
  },
  {
   "cell_type": "code",
   "execution_count": 94,
   "metadata": {},
   "outputs": [],
   "source": [
    "def extender_palabra(str1):\n",
    "    nuevo_str = [letra*3 for letra in str1]\n",
    "    return \"\".join(nuevo_str)\n",
    "    "
   ]
  },
  {
   "cell_type": "code",
   "execution_count": 95,
   "metadata": {},
   "outputs": [
    {
     "data": {
      "text/plain": [
       "'HHHeeellllllooo'"
      ]
     },
     "execution_count": 95,
     "metadata": {},
     "output_type": "execute_result"
    }
   ],
   "source": [
    "extender_palabra(\"Hello\")"
   ]
  },
  {
   "cell_type": "markdown",
   "metadata": {},
   "source": [
    "**9.-** Blackjack"
   ]
  },
  {
   "cell_type": "code",
   "execution_count": null,
   "metadata": {},
   "outputs": [],
   "source": [
    "def blackjack(num1,num2,num3):\n",
    "    #obtenemos la suma de las cartas\n",
    "    total = num1+num2+num3\n",
    "    #Si es menor a 21 retornamos la suma\n",
    "    if total <= 21:\n",
    "        return total\n",
    "    #Si es mayor a 21 verificamos un 11, si es asi lo consideramos como un 1\n",
    "    else:\n",
    "        if (num1 == 11) or (num2 == 11) or (num3 == 11):\n",
    "            return (total - 10)  \n",
    "        else:\n",
    "            return \"BUST\"\n",
    "    "
   ]
  },
  {
   "cell_type": "code",
   "execution_count": null,
   "metadata": {},
   "outputs": [],
   "source": [
    "blackjack(9,9,11)"
   ]
  },
  {
   "cell_type": "markdown",
   "metadata": {},
   "source": [
    "**10.-** Retornar la suma de los elementos en el arreglo, excepto los numeros dentro de los rangos en que inicie un 6 y termine en 9 (incluyendolos)."
   ]
  },
  {
   "cell_type": "code",
   "execution_count": 145,
   "metadata": {},
   "outputs": [],
   "source": [
    "def summer_69(numeros):\n",
    "    #Creamos una variable que nos permite verificar si debemos sumar o no\n",
    "    a_sumar = True\n",
    "    suma = 0\n",
    "    #Revisamos si debemos sumar el número actual, si es un 6, modifica la variable a_sumar, \n",
    "    #para no sumar el 6 ni los numeros siguientes hasta encontrar un 9.\n",
    "    for numero in numeros:\n",
    "        if a_sumar == True:\n",
    "            if numero == 6:\n",
    "                a_sumar = False\n",
    "            else:\n",
    "                suma += numero\n",
    "        else:\n",
    "            if numero == 9:\n",
    "                a_sumar = True                     \n",
    "    return suma        "
   ]
  },
  {
   "cell_type": "code",
   "execution_count": 147,
   "metadata": {},
   "outputs": [
    {
     "data": {
      "text/plain": [
       "14"
      ]
     },
     "execution_count": 147,
     "metadata": {},
     "output_type": "execute_result"
    }
   ],
   "source": [
    "summer_69([1,2,6,9,11])"
   ]
  },
  {
   "cell_type": "markdown",
   "metadata": {},
   "source": [
    "**11.-** Crear una función que reciba una lista de enteros y retorne True si contiene los elementos 007 en orden."
   ]
  },
  {
   "cell_type": "code",
   "execution_count": 149,
   "metadata": {},
   "outputs": [],
   "source": [
    "def spy_game(lista):\n",
    "    es_007 = 0\n",
    "    for numero in lista:\n",
    "        if (numero == 0) and (es_007) == 0: \n",
    "            es_007 += 1\n",
    "        elif (numero == 0) and (es_007 == 1):\n",
    "            es_007 += 1\n",
    "        elif (numero == 7) and (es_007 == 2):\n",
    "            return True  \n",
    "        elif numero == 7:\n",
    "            es_007 = 0\n",
    "    return False\n",
    "       "
   ]
  },
  {
   "cell_type": "code",
   "execution_count": 150,
   "metadata": {},
   "outputs": [
    {
     "data": {
      "text/plain": [
       "True"
      ]
     },
     "execution_count": 150,
     "metadata": {},
     "output_type": "execute_result"
    }
   ],
   "source": [
    "spy_game([0,1,2,3,4,5,7,0,1,3,50,0,1,6,3,2,0,2,612,235,7])"
   ]
  },
  {
   "cell_type": "markdown",
   "metadata": {},
   "source": [
    "**12.-** Dado un número dado, contar el numero de números primos que existen menores al número entregado."
   ]
  },
  {
   "cell_type": "code",
   "execution_count": 14,
   "metadata": {},
   "outputs": [],
   "source": [
    "def contar_primos(num):\n",
    "    if num < 2:\n",
    "        return 0\n",
    "    lista_primos = [2] \n",
    "    # Contador que aumenta hasta el número ingresado\n",
    "    x = 3\n",
    "    while x <= num:\n",
    "        #verificamos que el número no sea divisible por ningun número en la lista de numeros primos. \n",
    "        #En caso que lo sea continuamos con la siguiente iteración, si no lo es lo agregamos a la lista de primos.\n",
    "        for es_primo in lista_primos:\n",
    "            if x % es_primo == 0:\n",
    "                x += 2\n",
    "                break\n",
    "        else:\n",
    "            lista_primos.append(x)\n",
    "            x += 2       \n",
    "    return len(lista_primos)"
   ]
  },
  {
   "cell_type": "code",
   "execution_count": 18,
   "metadata": {},
   "outputs": [
    {
     "data": {
      "text/plain": [
       "168"
      ]
     },
     "execution_count": 18,
     "metadata": {},
     "output_type": "execute_result"
    }
   ],
   "source": [
    "contar_primos(1000)"
   ]
  },
  {
   "cell_type": "markdown",
   "metadata": {},
   "source": [
    "**13.-** Escribe una función que toma un letra y retorna la representación de esa letra en un arreglo 5x5"
   ]
  },
  {
   "cell_type": "code",
   "execution_count": 20,
   "metadata": {},
   "outputs": [],
   "source": [
    "def print_big(letra):\n",
    "    #Creamos un diccionario con los patrones de cada letra\n",
    "    dict_letras = {\"A\":[(\" \",\" \",\"*\",\" \",\" \"),(\" \",\"*\",\" \",\"*\",\" \"),(\"*\",\"*\",\"*\",\"*\",\"*\"),(\"*\",\" \",\" \",\" \",\"*\"),(\"*\",\" \",\" \",\" \",\"*\")],\n",
    "                   \"B\":[(\"*\",\"*\",\"*\",\"*\",\" \"),(\"*\",\" \",\" \",\" \",\"*\"),(\"*\",\"*\",\"*\",\"*\",\" \"),(\"*\",\" \",\" \",\" \",\"*\"),(\"*\",\"*\",\"*\",\"*\",\" \")],\n",
    "                   \"C\":[(\" \",\"*\",\"*\",\"*\",\"*\"),(\"*\",\" \",\" \",\" \",\" \"),(\"*\",\" \",\" \",\" \",\" \"),(\"*\",\" \",\" \",\" \",\" \"),(\" \",\"*\",\"*\",\"*\",\"*\")],\n",
    "                   \"D\":[(\"*\",\"*\",\"*\",\"*\",\" \"),(\"*\",\" \",\" \",\" \",\"*\"),(\"*\",\" \",\" \",\" \",\"*\"),(\"*\",\" \",\" \",\" \",\"*\"),(\"*\",\"*\",\"*\",\"*\",\" \")],\n",
    "                   \"E\":[(\"*\",\"*\",\"*\",\"*\",\"*\"),(\"*\",\" \",\" \",\" \",\" \"),(\"*\",\"*\",\"*\",\"*\",\"*\"),(\"*\",\" \",\" \",\" \",\" \"),(\"*\",\"*\",\"*\",\"*\",\"*\")]}\n",
    "    \n",
    "    #Si no se encuentra la letra en el diccionario retornamos un mensaje.\n",
    "    if letra.upper() not in dict_letras:\n",
    "        return \"No tenemos esa letra\"\n",
    "    \n",
    "    #Recorremos los valores de la letra e imprimimos el patrón\n",
    "    for indice in range(0,5):          \n",
    "        print(\"{}\".format(\"\".join(dict_letras[letra.upper()][indice])))\n",
    "        \n",
    "    "
   ]
  },
  {
   "cell_type": "code",
   "execution_count": 25,
   "metadata": {},
   "outputs": [
    {
     "name": "stdout",
     "output_type": "stream",
     "text": [
      "*****\n",
      "*    \n",
      "*****\n",
      "*    \n",
      "*****\n"
     ]
    }
   ],
   "source": [
    "print_big(\"E\")"
   ]
  },
  {
   "cell_type": "markdown",
   "metadata": {},
   "source": [
    "## Lambda expressions, Map y Filter\n",
    "- **Map**: Permite aplicar funciones a un listado de elementos *NOTA: Se debe utilizar solo el nombre de la función*"
   ]
  },
  {
   "cell_type": "code",
   "execution_count": 26,
   "metadata": {},
   "outputs": [],
   "source": [
    "def cuadrado(num):\n",
    "    return num**2"
   ]
  },
  {
   "cell_type": "code",
   "execution_count": 27,
   "metadata": {},
   "outputs": [],
   "source": [
    "numbers = [2,3,6,7]"
   ]
  },
  {
   "cell_type": "code",
   "execution_count": 30,
   "metadata": {},
   "outputs": [
    {
     "name": "stdout",
     "output_type": "stream",
     "text": [
      "4\n",
      "9\n",
      "36\n",
      "49\n"
     ]
    }
   ],
   "source": [
    "for item in map(cuadrado,numbers):\n",
    "    print(item)"
   ]
  },
  {
   "cell_type": "code",
   "execution_count": 31,
   "metadata": {},
   "outputs": [
    {
     "data": {
      "text/plain": [
       "[4, 9, 36, 49]"
      ]
     },
     "execution_count": 31,
     "metadata": {},
     "output_type": "execute_result"
    }
   ],
   "source": [
    "list(map(cuadrado,numbers))"
   ]
  },
  {
   "cell_type": "code",
   "execution_count": 32,
   "metadata": {},
   "outputs": [],
   "source": [
    "def separador(string):\n",
    "    if len(string) % 2 == 0:\n",
    "        return \"Even\"\n",
    "    else:\n",
    "        return string[0]"
   ]
  },
  {
   "cell_type": "code",
   "execution_count": 35,
   "metadata": {},
   "outputs": [],
   "source": [
    "nombres = [\"Seba\",\"Vivi\",\"Samuel\",\"Dog\"]"
   ]
  },
  {
   "cell_type": "code",
   "execution_count": 36,
   "metadata": {},
   "outputs": [
    {
     "data": {
      "text/plain": [
       "['Even', 'Even', 'Even', 'D']"
      ]
     },
     "execution_count": 36,
     "metadata": {},
     "output_type": "execute_result"
    }
   ],
   "source": [
    "list(map(separador,nombres))"
   ]
  },
  {
   "cell_type": "markdown",
   "metadata": {},
   "source": [
    "- **Filter**: Permite filtrar un listado de elementos iterables segun el resultado de la función (True or False)."
   ]
  },
  {
   "cell_type": "code",
   "execution_count": 37,
   "metadata": {},
   "outputs": [],
   "source": [
    "def pares(num):\n",
    "    return num % 2 == 0"
   ]
  },
  {
   "cell_type": "code",
   "execution_count": 38,
   "metadata": {},
   "outputs": [],
   "source": [
    "mis_numeros = [1,2,3,4,5,6]"
   ]
  },
  {
   "cell_type": "code",
   "execution_count": 39,
   "metadata": {},
   "outputs": [
    {
     "data": {
      "text/plain": [
       "[2, 4, 6]"
      ]
     },
     "execution_count": 39,
     "metadata": {},
     "output_type": "execute_result"
    }
   ],
   "source": [
    "list(filter(pares,mis_numeros))"
   ]
  },
  {
   "cell_type": "markdown",
   "metadata": {},
   "source": [
    "-**Lambda expressions**: Funcion anónima (sin argumentos) que tiene como objetivo ser utilizada solo una vez"
   ]
  },
  {
   "cell_type": "code",
   "execution_count": 41,
   "metadata": {},
   "outputs": [],
   "source": [
    "square = lambda num: num**2"
   ]
  },
  {
   "cell_type": "code",
   "execution_count": 43,
   "metadata": {},
   "outputs": [
    {
     "data": {
      "text/plain": [
       "16"
      ]
     },
     "execution_count": 43,
     "metadata": {},
     "output_type": "execute_result"
    }
   ],
   "source": [
    "square(4)"
   ]
  },
  {
   "cell_type": "code",
   "execution_count": 47,
   "metadata": {},
   "outputs": [
    {
     "data": {
      "text/plain": [
       "[1.0,\n",
       " 1.4142135623730951,\n",
       " 1.7320508075688772,\n",
       " 2.0,\n",
       " 2.23606797749979,\n",
       " 2.449489742783178]"
      ]
     },
     "execution_count": 47,
     "metadata": {},
     "output_type": "execute_result"
    }
   ],
   "source": [
    "list(map((lambda num:num**0.5),mis_numeros))"
   ]
  },
  {
   "cell_type": "code",
   "execution_count": 50,
   "metadata": {},
   "outputs": [
    {
     "data": {
      "text/plain": [
       "[2, 4, 6]"
      ]
     },
     "execution_count": 50,
     "metadata": {},
     "output_type": "execute_result"
    }
   ],
   "source": [
    "list(filter(lambda num:num%2==0,mis_numeros))"
   ]
  },
  {
   "cell_type": "code",
   "execution_count": 53,
   "metadata": {},
   "outputs": [
    {
     "data": {
      "text/plain": [
       "['abeS', 'iviV', 'leumaS', 'goD']"
      ]
     },
     "execution_count": 53,
     "metadata": {},
     "output_type": "execute_result"
    }
   ],
   "source": [
    "list(map(lambda string:string[::-1],nombres))"
   ]
  },
  {
   "cell_type": "markdown",
   "metadata": {},
   "source": [
    "## Nested Statements y Scope"
   ]
  },
  {
   "cell_type": "markdown",
   "metadata": {},
   "source": [
    "### LEGB Rule\n",
    "\n",
    "Define el orden de busqueda de las variables según la siguiente prioridad: <br>\n",
    "Local > Enclosing > Global > Built-in"
   ]
  },
  {
   "cell_type": "markdown",
   "metadata": {},
   "source": [
    "Palabra reservada **global** permite modificar el valor de una variable global desde un scope distinto <br>\n",
    "*Nota: No es recomendada utilización*"
   ]
  },
  {
   "cell_type": "code",
   "execution_count": 59,
   "metadata": {},
   "outputs": [],
   "source": [
    "nombre = \"Sebastian\"\n",
    "\n",
    "def cambio_nombre():\n",
    "    global nombre\n",
    "    print(\"Mi nombre es {}\".format(nombre))\n",
    "    \n",
    "    #Modificamos el nombre\n",
    "    nombre = \"Nicolas\"\n",
    "    print(\"Ahora mi nombre es {}\".format(nombre))\n"
   ]
  },
  {
   "cell_type": "code",
   "execution_count": 60,
   "metadata": {},
   "outputs": [
    {
     "data": {
      "text/plain": [
       "'Sebastian'"
      ]
     },
     "execution_count": 60,
     "metadata": {},
     "output_type": "execute_result"
    }
   ],
   "source": [
    "nombre"
   ]
  },
  {
   "cell_type": "code",
   "execution_count": 61,
   "metadata": {},
   "outputs": [
    {
     "name": "stdout",
     "output_type": "stream",
     "text": [
      "Mi nombre es Sebastian\n",
      "Ahora mi nombre es Nicolas\n"
     ]
    }
   ],
   "source": [
    "cambio_nombre()"
   ]
  },
  {
   "cell_type": "code",
   "execution_count": 62,
   "metadata": {},
   "outputs": [
    {
     "data": {
      "text/plain": [
       "'Nicolas'"
      ]
     },
     "execution_count": 62,
     "metadata": {},
     "output_type": "execute_result"
    }
   ],
   "source": [
    "nombre"
   ]
  },
  {
   "cell_type": "markdown",
   "metadata": {},
   "source": [
    "## Más Ejercicios"
   ]
  },
  {
   "cell_type": "markdown",
   "metadata": {},
   "source": [
    "**1.-** Escribir una función que determine el volumen de una esfera dado su radio"
   ]
  },
  {
   "cell_type": "code",
   "execution_count": 78,
   "metadata": {},
   "outputs": [],
   "source": [
    "def vol(radius):\n",
    "    pi = 3.14\n",
    "    return (pi*radius**3*(4/3))"
   ]
  },
  {
   "cell_type": "code",
   "execution_count": 77,
   "metadata": {},
   "outputs": [
    {
     "data": {
      "text/plain": [
       "33.49333333333333"
      ]
     },
     "execution_count": 77,
     "metadata": {},
     "output_type": "execute_result"
    }
   ],
   "source": [
    "vol(2)"
   ]
  },
  {
   "cell_type": "markdown",
   "metadata": {},
   "source": [
    "**2.-** Escribir una función que determine si el número se encuentra dentro de un rango"
   ]
  },
  {
   "cell_type": "code",
   "execution_count": 191,
   "metadata": {},
   "outputs": [],
   "source": [
    "def check_range(num,low,high):\n",
    "    return num in range(low,high+1)"
   ]
  },
  {
   "cell_type": "code",
   "execution_count": 194,
   "metadata": {},
   "outputs": [
    {
     "data": {
      "text/plain": [
       "True"
      ]
     },
     "execution_count": 194,
     "metadata": {},
     "output_type": "execute_result"
    }
   ],
   "source": [
    "check_range(5,3,5)"
   ]
  },
  {
   "cell_type": "markdown",
   "metadata": {},
   "source": [
    "**3.-** Escribir una función que dado un string calcule el numero de minusculas y mayusculas"
   ]
  },
  {
   "cell_type": "code",
   "execution_count": 160,
   "metadata": {},
   "outputs": [],
   "source": [
    "def up_low(string):\n",
    "    upper_num = 0\n",
    "    lower_num = 0\n",
    "    #Recorremos el string y aumentamos el contador correspondiente, dependiendo si la letra actual es minuscula o mayuscula\n",
    "    for letter in string:\n",
    "        if letter.isupper():\n",
    "            upper_num += 1\n",
    "        elif letter.islower():\n",
    "            lower_num += 1\n",
    "        else:\n",
    "            pass        \n",
    "    print(\"No. of upper case characters: {}\".format(upper_num))\n",
    "    print(\"No. of lower case characters: {}\".format(lower_num))\n",
    "        "
   ]
  },
  {
   "cell_type": "code",
   "execution_count": 161,
   "metadata": {},
   "outputs": [
    {
     "name": "stdout",
     "output_type": "stream",
     "text": [
      "No. of upper case characters: 4\n",
      "No. of lower case characters: 33\n"
     ]
    }
   ],
   "source": [
    "up_low(\"Hello Mr. Rogers, how are you this fine Tuesday?\")"
   ]
  },
  {
   "cell_type": "code",
   "execution_count": 124,
   "metadata": {},
   "outputs": [],
   "source": [
    "from collections import Counter\n",
    "\n",
    "def up_low_counter(string):\n",
    "    \n",
    "    numbers = Counter(\"upper\" if letter.isupper() else \"lower\" if letter.islower() else \"\" for letter in string)\n",
    "    \n",
    "    print(\"No. of upper case characters: {}\".format(numbers[\"upper\"]))\n",
    "    print(\"No. of upper case characters: {}\".format(numbers[\"lower\"]))"
   ]
  },
  {
   "cell_type": "code",
   "execution_count": 125,
   "metadata": {},
   "outputs": [
    {
     "name": "stdout",
     "output_type": "stream",
     "text": [
      "No. of upper case characters: 4\n",
      "No. of upper case characters: 33\n"
     ]
    }
   ],
   "source": [
    "up_low_counter(\"Hello Mr. Rogers, how are you this fine Tuesday?\")"
   ]
  },
  {
   "cell_type": "markdown",
   "metadata": {},
   "source": [
    "**4.-** Escribir una función que acepte una lista y retorne una nueva lista con los elementos únicos de la lista ingresada"
   ]
  },
  {
   "cell_type": "code",
   "execution_count": 132,
   "metadata": {},
   "outputs": [],
   "source": [
    "def unique_list(lista):\n",
    "    return list(set(lista))"
   ]
  },
  {
   "cell_type": "code",
   "execution_count": 133,
   "metadata": {},
   "outputs": [
    {
     "data": {
      "text/plain": [
       "[1, 2, 3, 4, 5, 6, 7]"
      ]
     },
     "execution_count": 133,
     "metadata": {},
     "output_type": "execute_result"
    }
   ],
   "source": [
    "unique_list([1,1,1,1,2,3,3,3,4,3,5,6,7,7,7,7])"
   ]
  },
  {
   "cell_type": "markdown",
   "metadata": {},
   "source": [
    "**5.-** Escribir una función que multiplique todos los números de una lista"
   ]
  },
  {
   "cell_type": "code",
   "execution_count": 162,
   "metadata": {},
   "outputs": [],
   "source": [
    "def multiply(numbers):\n",
    "    resultado = 1\n",
    "    #Recorremos la lista y multiplicamos cada elemento con el resultado de la multiplicación previa\n",
    "    for elem in numbers:\n",
    "        resultado *= elem\n",
    "    return resultado        "
   ]
  },
  {
   "cell_type": "code",
   "execution_count": 163,
   "metadata": {},
   "outputs": [
    {
     "data": {
      "text/plain": [
       "0"
      ]
     },
     "execution_count": 163,
     "metadata": {},
     "output_type": "execute_result"
    }
   ],
   "source": [
    "multiply([0,2,3,4,-5])"
   ]
  },
  {
   "cell_type": "markdown",
   "metadata": {},
   "source": [
    "**6.-** Escribir una función que chequee si una palabra o sentencia es un palindrome"
   ]
  },
  {
   "cell_type": "code",
   "execution_count": 201,
   "metadata": {},
   "outputs": [],
   "source": [
    "def palindrome(string):\n",
    "    #Eliminamos los espacios en blanco\n",
    "    string_se = string.replace(\" \",\"\").lower()\n",
    "    #Verificamos si el string es igual al revés y retornamos True or False\n",
    "    return string_se == string_se[::-1]  "
   ]
  },
  {
   "cell_type": "code",
   "execution_count": 202,
   "metadata": {},
   "outputs": [
    {
     "data": {
      "text/plain": [
       "True"
      ]
     },
     "execution_count": 202,
     "metadata": {},
     "output_type": "execute_result"
    }
   ],
   "source": [
    "palindrome(\"Helleh\")\n"
   ]
  },
  {
   "cell_type": "markdown",
   "metadata": {},
   "source": [
    "**7.-** Escribir una función que chequee si una palabra o sentencia es un pangram (contiene todas las letras del abcedario)"
   ]
  },
  {
   "cell_type": "code",
   "execution_count": 204,
   "metadata": {},
   "outputs": [],
   "source": [
    "from collections import Counter\n",
    "\n",
    "def is_pangram(str1):\n",
    "    pangram = Counter(str1.replace(\" \",\"\").lower())\n",
    "    return len(pangram) == 26       \n",
    "    "
   ]
  },
  {
   "cell_type": "code",
   "execution_count": 205,
   "metadata": {},
   "outputs": [
    {
     "data": {
      "text/plain": [
       "True"
      ]
     },
     "execution_count": 205,
     "metadata": {},
     "output_type": "execute_result"
    }
   ],
   "source": [
    "is_pangram(\"The quick brown fox jumps over the lazy dog\")"
   ]
  },
  {
   "cell_type": "code",
   "execution_count": null,
   "metadata": {},
   "outputs": [],
   "source": []
  }
 ],
 "metadata": {
  "kernelspec": {
   "display_name": "Python 3",
   "language": "python",
   "name": "python3"
  },
  "language_info": {
   "codemirror_mode": {
    "name": "ipython",
    "version": 3
   },
   "file_extension": ".py",
   "mimetype": "text/x-python",
   "name": "python",
   "nbconvert_exporter": "python",
   "pygments_lexer": "ipython3",
   "version": "3.8.5"
  }
 },
 "nbformat": 4,
 "nbformat_minor": 4
}
