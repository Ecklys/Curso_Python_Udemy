{
 "cells": [
  {
   "cell_type": "markdown",
   "metadata": {},
   "source": [
    "### Help function:\n",
    "Permite obtener información de ayuda acerca de un metodo en particular."
   ]
  },
  {
   "cell_type": "code",
   "execution_count": 1,
   "metadata": {},
   "outputs": [
    {
     "name": "stdout",
     "output_type": "stream",
     "text": [
      "Help on built-in function append:\n",
      "\n",
      "append(object, /) method of builtins.list instance\n",
      "    Append object to the end of the list.\n",
      "\n"
     ]
    }
   ],
   "source": [
    "my_list = []\n",
    "help(my_list.append)"
   ]
  },
  {
   "cell_type": "markdown",
   "metadata": {},
   "source": [
    "Es posible asignar valores por defecto a una funcion"
   ]
  },
  {
   "cell_type": "code",
   "execution_count": 1,
   "metadata": {},
   "outputs": [],
   "source": [
    "def sumar_dos_numeros(x = 5,y = 7):\n",
    "    return (x + y)"
   ]
  },
  {
   "cell_type": "code",
   "execution_count": 2,
   "metadata": {},
   "outputs": [
    {
     "data": {
      "text/plain": [
       "12"
      ]
     },
     "execution_count": 2,
     "metadata": {},
     "output_type": "execute_result"
    }
   ],
   "source": [
    "sumar_dos_numeros()"
   ]
  },
  {
   "cell_type": "code",
   "execution_count": 3,
   "metadata": {},
   "outputs": [
    {
     "data": {
      "text/plain": [
       "35"
      ]
     },
     "execution_count": 3,
     "metadata": {},
     "output_type": "execute_result"
    }
   ],
   "source": [
    "sumar_dos_numeros(10,25)"
   ]
  },
  {
   "cell_type": "markdown",
   "metadata": {},
   "source": [
    "## Tuple unpacking in functions\n",
    "\n",
    "El retorno de una función puede ser una tupla"
   ]
  },
  {
   "cell_type": "code",
   "execution_count": 13,
   "metadata": {},
   "outputs": [],
   "source": [
    "lista_precios = [(\"Manzana\",100),(\"Naranja\",250),(\"Platano\",200)]"
   ]
  },
  {
   "cell_type": "code",
   "execution_count": 14,
   "metadata": {},
   "outputs": [],
   "source": [
    "def fruta_mas_cara(listado):    \n",
    "    mayor_precio = 0\n",
    "    fruta_mas_cara = \"\"\n",
    "    for fruta,precio in listado:\n",
    "        if precio > mayor_precio:\n",
    "            mayor_precio = precio\n",
    "            fruta_mas_cara = fruta\n",
    "            \n",
    "    return (fruta_mas_cara,mayor_precio)"
   ]
  },
  {
   "cell_type": "code",
   "execution_count": 15,
   "metadata": {},
   "outputs": [
    {
     "data": {
      "text/plain": [
       "('Naranja', 250)"
      ]
     },
     "execution_count": 15,
     "metadata": {},
     "output_type": "execute_result"
    }
   ],
   "source": [
    "fruta_mas_cara(lista_precios)"
   ]
  },
  {
   "cell_type": "markdown",
   "metadata": {},
   "source": [
    "El retorno se puede asignar a una tupla de elementos:"
   ]
  },
  {
   "cell_type": "code",
   "execution_count": 16,
   "metadata": {},
   "outputs": [],
   "source": [
    "fruta, precio = fruta_mas_cara(lista_precios)"
   ]
  },
  {
   "cell_type": "code",
   "execution_count": 17,
   "metadata": {},
   "outputs": [
    {
     "data": {
      "text/plain": [
       "'Naranja'"
      ]
     },
     "execution_count": 17,
     "metadata": {},
     "output_type": "execute_result"
    }
   ],
   "source": [
    "fruta"
   ]
  },
  {
   "cell_type": "code",
   "execution_count": 18,
   "metadata": {},
   "outputs": [
    {
     "data": {
      "text/plain": [
       "250"
      ]
     },
     "execution_count": 18,
     "metadata": {},
     "output_type": "execute_result"
    }
   ],
   "source": [
    "precio"
   ]
  },
  {
   "cell_type": "markdown",
   "metadata": {},
   "source": [
    "## \\*args & \\*\\*kwargs\n",
    "arguments y keyword arguments: Permiten aceptar un numero arbitrario de parametros\n",
    "\n",
    "Hasta ahora, si necesitamos un número x de parametros la forma de hacerlo es declarando cada uno en la función de la siguiente manera:"
   ]
  },
  {
   "cell_type": "code",
   "execution_count": 9,
   "metadata": {},
   "outputs": [],
   "source": [
    "def myfunc(a,b,c=0,d=0):\n",
    "    return sum((a,b,c,d))*0.05"
   ]
  },
  {
   "cell_type": "code",
   "execution_count": 11,
   "metadata": {},
   "outputs": [
    {
     "data": {
      "text/plain": [
       "9.0"
      ]
     },
     "execution_count": 11,
     "metadata": {},
     "output_type": "execute_result"
    }
   ],
   "source": [
    "myfunc(40,60,80)"
   ]
  },
  {
   "cell_type": "markdown",
   "metadata": {},
   "source": [
    "En cambio, utilizando \\*args (args puede ser cualquier nombre, pero por convencion se utiliza args)"
   ]
  },
  {
   "cell_type": "code",
   "execution_count": 15,
   "metadata": {},
   "outputs": [],
   "source": [
    "def myfunc(*args):\n",
    "    return sum(args)*0.05"
   ]
  },
  {
   "cell_type": "code",
   "execution_count": 16,
   "metadata": {},
   "outputs": [
    {
     "data": {
      "text/plain": [
       "14.0"
      ]
     },
     "execution_count": 16,
     "metadata": {},
     "output_type": "execute_result"
    }
   ],
   "source": [
    "myfunc(5,10,20,35,50,60,100)"
   ]
  },
  {
   "cell_type": "markdown",
   "metadata": {},
   "source": [
    "Por otra parte \\*\\*kwargs crea un diccionario conlos elementos ingresados"
   ]
  },
  {
   "cell_type": "code",
   "execution_count": 19,
   "metadata": {},
   "outputs": [],
   "source": [
    "def myfunc(**kwargs):\n",
    "    if \"fruta\" in kwargs:\n",
    "        print(\"Me gusta la {}\".format(kwargs[\"fruta\"]))\n",
    "    else:\n",
    "        print(\"No quiero nada\")"
   ]
  },
  {
   "cell_type": "code",
   "execution_count": 21,
   "metadata": {},
   "outputs": [
    {
     "name": "stdout",
     "output_type": "stream",
     "text": [
      "Me gusta la Manzana\n"
     ]
    }
   ],
   "source": [
    "myfunc(fruta = \"Manzana\",vegetal = \"Lechuga\")"
   ]
  },
  {
   "cell_type": "markdown",
   "metadata": {},
   "source": [
    "## Ejercicios"
   ]
  },
  {
   "cell_type": "markdown",
   "metadata": {},
   "source": [
    "**1.-** Retornar el menor de dos numeros si ambos son pares, en caso contrario retornar el mayor entre ambos."
   ]
  },
  {
   "cell_type": "code",
   "execution_count": 23,
   "metadata": {},
   "outputs": [],
   "source": [
    "def comparar_num(a,b):\n",
    "    #Comparamos si ambos numeros son pares\n",
    "    if (a % 2 == 0) and (b % 2 == 0):\n",
    "        if a <= b:\n",
    "            return a\n",
    "        else:\n",
    "            return b\n",
    "    else:\n",
    "        if a >= b:\n",
    "            return a\n",
    "        else:\n",
    "            return b"
   ]
  },
  {
   "cell_type": "code",
   "execution_count": 27,
   "metadata": {},
   "outputs": [
    {
     "data": {
      "text/plain": [
       "2"
      ]
     },
     "execution_count": 27,
     "metadata": {},
     "output_type": "execute_result"
    }
   ],
   "source": [
    "comparar_num(2,6)"
   ]
  },
  {
   "cell_type": "markdown",
   "metadata": {},
   "source": [
    "**2.-** Escribir una función que acepte un string con dos palabras y retorne True si ambas palabras comienzan con la misma letra."
   ]
  },
  {
   "cell_type": "code",
   "execution_count": 36,
   "metadata": {},
   "outputs": [],
   "source": [
    "def primera_letra_igual(str1):\n",
    "    # Separamos las palabras en una lista\n",
    "    palabras = str1.split()\n",
    "    # Comparamos el primer caracter de cada palabra\n",
    "    if palabras[0][0].lower() == palabras[1][0].lower():\n",
    "        return True\n",
    "    else:\n",
    "        return False"
   ]
  },
  {
   "cell_type": "code",
   "execution_count": 34,
   "metadata": {},
   "outputs": [
    {
     "data": {
      "text/plain": [
       "False"
      ]
     },
     "execution_count": 34,
     "metadata": {},
     "output_type": "execute_result"
    }
   ],
   "source": [
    "primera_letra_igual(\"Crazy Kangaroo\")"
   ]
  },
  {
   "cell_type": "markdown",
   "metadata": {},
   "source": [
    "**3.-** Dados dos enteros, retornar True si la suma de ambos es 20, o si uno de ambos numeros es 20"
   ]
  },
  {
   "cell_type": "code",
   "execution_count": 68,
   "metadata": {},
   "outputs": [],
   "source": [
    "def hace_veinte(num1,num2):\n",
    "    if (num1+num2== 20) or (num1 == 20) or (num2 == 20):\n",
    "        return True\n",
    "    else:\n",
    "        return False"
   ]
  },
  {
   "cell_type": "code",
   "execution_count": 66,
   "metadata": {},
   "outputs": [
    {
     "data": {
      "text/plain": [
       "False"
      ]
     },
     "execution_count": 66,
     "metadata": {},
     "output_type": "execute_result"
    }
   ],
   "source": [
    "hace_veinte(2,3)"
   ]
  },
  {
   "cell_type": "markdown",
   "metadata": {},
   "source": [
    "**4.-** Escribir funcion que capitalize la primera y cuarta letra de un nombre"
   ]
  },
  {
   "cell_type": "code",
   "execution_count": 39,
   "metadata": {},
   "outputs": [],
   "source": [
    "def capitalizar_letras(nombre):\n",
    "    nombre_capitalizado = \"\"\n",
    "    for indice,letra in enumerate(nombre):\n",
    "        # Capitalizamos la primera y cuarta letra, si existen\n",
    "        if indice == 0 or indice == 3:\n",
    "            nombre_capitalizado += nombre[indice].upper()\n",
    "        else:\n",
    "            nombre_capitalizado += nombre[indice]\n",
    "    return nombre_capitalizado\n",
    "\n",
    "        "
   ]
  },
  {
   "cell_type": "code",
   "execution_count": 69,
   "metadata": {},
   "outputs": [
    {
     "data": {
      "text/plain": [
       "'SebAstian'"
      ]
     },
     "execution_count": 69,
     "metadata": {},
     "output_type": "execute_result"
    }
   ],
   "source": [
    "capitalizar_letras(\"Sebastian\")"
   ]
  },
  {
   "cell_type": "markdown",
   "metadata": {},
   "source": [
    "**5.-** Revertir el orden de las palabras de una sentencia"
   ]
  },
  {
   "cell_type": "code",
   "execution_count": 50,
   "metadata": {},
   "outputs": [],
   "source": [
    "def revertir_sentencia(sentencia):\n",
    "    #Separamos las palabras, asignandolas a un listado\n",
    "    palabras = sentencia.split()\n",
    "    #Invertimos el orden de las palabras\n",
    "    palabras.reverse()\n",
    "    #Retornarmos la union de las palabras en el nuevo orden\n",
    "    return \" \".join(palabras)"
   ]
  },
  {
   "cell_type": "code",
   "execution_count": 51,
   "metadata": {},
   "outputs": [
    {
     "data": {
      "text/plain": [
       "'Sebastian es nombre Mi'"
      ]
     },
     "execution_count": 51,
     "metadata": {},
     "output_type": "execute_result"
    }
   ],
   "source": [
    "revertir_sentencia(\"Mi nombre es Sebastian\")"
   ]
  },
  {
   "cell_type": "markdown",
   "metadata": {},
   "source": [
    "**6.-** Dado un entero n, retornar True si n esta dentro de 10 numeros alrededor de 100 o 200."
   ]
  },
  {
   "cell_type": "code",
   "execution_count": 52,
   "metadata": {},
   "outputs": [],
   "source": [
    "def cerca_del_numero(num):\n",
    "    if (90 <= num <= 110) or (190 <= num <= 210):\n",
    "        return True\n",
    "    else:\n",
    "        return False"
   ]
  },
  {
   "cell_type": "code",
   "execution_count": 60,
   "metadata": {},
   "outputs": [
    {
     "data": {
      "text/plain": [
       "False"
      ]
     },
     "execution_count": 60,
     "metadata": {},
     "output_type": "execute_result"
    }
   ],
   "source": [
    "cerca_del_numero(-10)"
   ]
  },
  {
   "cell_type": "markdown",
   "metadata": {},
   "source": [
    "**7.-** Dada una lista de enteros, retornar True si la lista contiene un 3 al lado de otro 3"
   ]
  },
  {
   "cell_type": "code",
   "execution_count": 72,
   "metadata": {},
   "outputs": [],
   "source": [
    "def tiene_33(numeros):\n",
    "    #Recorremos la lista buscando un 3, en caso que no haya retornamos False\n",
    "    for indice,numero in enumerate(numeros):\n",
    "        #Si el numero es 3, verificamos que no sea el último elemento\n",
    "        if numero == 3:\n",
    "            if indice == len(numeros)-1:\n",
    "                return False\n",
    "            #Si el número siguiente es 3 entonces retornarmos True\n",
    "            elif numeros[indice+1] == 3:\n",
    "                return True\n",
    "    return False        \n",
    "        "
   ]
  },
  {
   "cell_type": "code",
   "execution_count": 78,
   "metadata": {},
   "outputs": [
    {
     "data": {
      "text/plain": [
       "True"
      ]
     },
     "execution_count": 78,
     "metadata": {},
     "output_type": "execute_result"
    }
   ],
   "source": [
    "tiene_33([1,3,1,1,1,2,5,6,7,3,3,1,33,123,54321,3,2,3,3])"
   ]
  },
  {
   "cell_type": "markdown",
   "metadata": {},
   "source": [
    "**8.-** Dado un string retornar un nuevo string donde se repita 3 veces cada letra del original"
   ]
  },
  {
   "cell_type": "code",
   "execution_count": 94,
   "metadata": {},
   "outputs": [],
   "source": [
    "def extender_palabra(str1):\n",
    "    nuevo_str = [letra*3 for letra in str1]\n",
    "    return \"\".join(nuevo_str)\n",
    "    "
   ]
  },
  {
   "cell_type": "code",
   "execution_count": 95,
   "metadata": {},
   "outputs": [
    {
     "data": {
      "text/plain": [
       "'HHHeeellllllooo'"
      ]
     },
     "execution_count": 95,
     "metadata": {},
     "output_type": "execute_result"
    }
   ],
   "source": [
    "extender_palabra(\"Hello\")"
   ]
  },
  {
   "cell_type": "markdown",
   "metadata": {},
   "source": [
    "**9.-** Blackjack"
   ]
  },
  {
   "cell_type": "code",
   "execution_count": null,
   "metadata": {},
   "outputs": [],
   "source": [
    "def blackjack(num1,num2,num3):\n",
    "    #obtenemos la suma de las cartas\n",
    "    total = num1+num2+num3\n",
    "    #Si es menor a 21 retornamos la suma\n",
    "    if total <= 21:\n",
    "        return total\n",
    "    #Si es mayor a 21 verificamos un 11, si es asi lo consideramos como un 1\n",
    "    else:\n",
    "        if (num1 == 11) or (num2 == 11) or (num3 == 11):\n",
    "            return (total - 10)  \n",
    "        else:\n",
    "            return \"BUST\"\n",
    "    "
   ]
  },
  {
   "cell_type": "code",
   "execution_count": null,
   "metadata": {},
   "outputs": [],
   "source": [
    "blackjack(9,9,11)"
   ]
  },
  {
   "cell_type": "markdown",
   "metadata": {},
   "source": [
    "**10.-** Retornar la suma de los elementos en el arreglo, excepto los numeros dentro de los rangos en que inicie un 6 y termine en 9 (incluyendolos)."
   ]
  },
  {
   "cell_type": "code",
   "execution_count": 13,
   "metadata": {},
   "outputs": [],
   "source": [
    "def summer_69(numeros):\n",
    "    #Creamos una variable que nos permite verificar si debemos sumar o no\n",
    "    a_sumar = True\n",
    "    sumar = 0\n",
    "    #Revisamos si debemos sumar el número actual, si es un 6, modifica la variable a_sumar, \n",
    "    #para no sumar el 6 ni los numeros siguientes hasta encontrar un 9.\n",
    "    for numero in numeros:\n",
    "        if a_sumar == True:\n",
    "            if numero == 6:\n",
    "                a_sumar = False\n",
    "            else:\n",
    "                sumar += numero\n",
    "        else:\n",
    "            if numero == 9:\n",
    "                a_sumar = True                     \n",
    "    return sumar        "
   ]
  },
  {
   "cell_type": "code",
   "execution_count": 14,
   "metadata": {},
   "outputs": [
    {
     "data": {
      "text/plain": [
       "9"
      ]
     },
     "execution_count": 14,
     "metadata": {},
     "output_type": "execute_result"
    }
   ],
   "source": [
    "summer_69([4,5,6,7,8,9])"
   ]
  },
  {
   "cell_type": "markdown",
   "metadata": {},
   "source": [
    "**11.-** Crear una función que reciba una lista de enteros y retorne True si contiene los elementos 007 en orden."
   ]
  },
  {
   "cell_type": "code",
   "execution_count": 24,
   "metadata": {},
   "outputs": [],
   "source": [
    "def spy_game(lista):\n",
    "    es_007 = 0\n",
    "    for numero in lista:\n",
    "        if (numero == 0) and (es_007) == 0: \n",
    "            es_007 += 1\n",
    "        elif (numero == 0) and (es_007 == 1):\n",
    "            es_007 += 1\n",
    "        elif (numero == 7) and (es_007 == 2):\n",
    "            es_007 += 1  \n",
    "        elif numero == 7:\n",
    "            es_007 = 0\n",
    "    if es_007 == 3:\n",
    "        return True\n",
    "    else:\n",
    "        return False      "
   ]
  },
  {
   "cell_type": "code",
   "execution_count": 27,
   "metadata": {},
   "outputs": [
    {
     "data": {
      "text/plain": [
       "True"
      ]
     },
     "execution_count": 27,
     "metadata": {},
     "output_type": "execute_result"
    }
   ],
   "source": [
    "spy_game([0,1,2,3,4,5,7,0,1,3,50,0,1,6,3,2,0,2,612,235,7])"
   ]
  },
  {
   "cell_type": "markdown",
   "metadata": {},
   "source": [
    "**12.-** Dado un número dado, contar el numero de números primos que existen menores al número entregado."
   ]
  },
  {
   "cell_type": "code",
   "execution_count": 38,
   "metadata": {},
   "outputs": [],
   "source": [
    "def contar_primos(num):\n",
    "    lista_primos = []    \n",
    "    for numero in range(2,num+1):\n",
    "        verificar_primo = 0\n",
    "        for es_primo in range(1,numero+1):\n",
    "            if numero % es_primo == 0:\n",
    "                verificar_primo += 1\n",
    "        if verificar_primo == 2:\n",
    "            lista_primos.append(numero)\n",
    "    return len(lista_primos)"
   ]
  },
  {
   "cell_type": "code",
   "execution_count": 42,
   "metadata": {},
   "outputs": [
    {
     "data": {
      "text/plain": [
       "25"
      ]
     },
     "execution_count": 42,
     "metadata": {},
     "output_type": "execute_result"
    }
   ],
   "source": [
    "contar_primos(100)"
   ]
  },
  {
   "cell_type": "markdown",
   "metadata": {},
   "source": [
    "**13.-** Escribe una función que toma un letra y retorna la representación de esa letra en un arreglo 5x5"
   ]
  },
  {
   "cell_type": "code",
   "execution_count": 84,
   "metadata": {},
   "outputs": [],
   "source": [
    "def print_big(letra):\n",
    "    dict_letras = {\"A\":[(\" \",\" \",\"*\",\" \",\" \"),(\" \",\"*\",\" \",\"*\",\" \"),(\"*\",\"*\",\"*\",\"*\",\"*\"),(\"*\",\" \",\" \",\" \",\"*\"),(\"*\",\" \",\" \",\" \",\"*\")],\n",
    "                   \"B\":[(\"*\",\"*\",\"*\",\"*\",\" \"),(\"*\",\" \",\" \",\" \",\"*\"),(\"*\",\"*\",\"*\",\"*\",\" \"),(\"*\",\" \",\" \",\" \",\"*\"),(\"*\",\"*\",\"*\",\"*\",\" \")],\n",
    "                   \"C\":[(\" \",\"*\",\"*\",\"*\",\"*\"),(\"*\",\" \",\" \",\" \",\" \"),(\"*\",\" \",\" \",\" \",\" \"),(\"*\",\" \",\" \",\" \",\" \"),(\" \",\"*\",\"*\",\"*\",\"*\")],\n",
    "                   \"D\":[(\"*\",\"*\",\"*\",\"*\",\" \"),(\"*\",\" \",\" \",\"*\",\" \"),(\"*\",\" \",\" \",\" \",\"*\"),(\"*\",\" \",\" \",\"*\",\" \"),(\"*\",\"*\",\"*\",\"*\",\" \")]}\n",
    "    if letra.upper() == \"A\":\n",
    "        for indice in range(0,5):          \n",
    "            print(\"{}\".format(\"\".join(dict_letras[\"A\"][indice])))\n",
    "    elif letra.upper() == \"B\":\n",
    "        for indice in range(0,5):          \n",
    "            print(\"{}\".format(\"\".join(dict_letras[\"B\"][indice])))\n",
    "    elif letra.upper() == \"C\":\n",
    "        for indice in range(0,5):          \n",
    "            print(\"{}\".format(\"\".join(dict_letras[\"C\"][indice])))\n",
    "    elif letra.upper() == \"D\":\n",
    "        for indice in range(0,5):          \n",
    "            print(\"{}\".format(\"\".join(dict_letras[\"D\"][indice])))\n",
    "    else:\n",
    "        return \"No tenemos esa letra\""
   ]
  },
  {
   "cell_type": "code",
   "execution_count": 86,
   "metadata": {},
   "outputs": [
    {
     "name": "stdout",
     "output_type": "stream",
     "text": [
      "***  \n",
      "*  * \n",
      "*   *\n",
      "*  * \n",
      "***  \n"
     ]
    }
   ],
   "source": [
    "print_big(\"d\")"
   ]
  },
  {
   "cell_type": "code",
   "execution_count": null,
   "metadata": {},
   "outputs": [],
   "source": []
  }
 ],
 "metadata": {
  "kernelspec": {
   "display_name": "Python 3",
   "language": "python",
   "name": "python3"
  },
  "language_info": {
   "codemirror_mode": {
    "name": "ipython",
    "version": 3
   },
   "file_extension": ".py",
   "mimetype": "text/x-python",
   "name": "python",
   "nbconvert_exporter": "python",
   "pygments_lexer": "ipython3",
   "version": "3.8.5"
  }
 },
 "nbformat": 4,
 "nbformat_minor": 4
}
