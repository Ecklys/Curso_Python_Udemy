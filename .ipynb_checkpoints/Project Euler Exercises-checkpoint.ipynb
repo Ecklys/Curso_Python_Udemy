{
 "cells": [
  {
   "cell_type": "markdown",
   "metadata": {},
   "source": [
    "**1.-** Suma multiplos de 3 y 5"
   ]
  },
  {
   "cell_type": "code",
   "execution_count": 35,
   "metadata": {},
   "outputs": [],
   "source": [
    "def crear_lista(numero):\n",
    "    resultado = 0\n",
    "    for elem in range(1,numero):\n",
    "        if (elem % 3 == 0) or (elem % 5 == 0):\n",
    "            resultado += elem\n",
    "    return resultado       \n",
    "        "
   ]
  },
  {
   "cell_type": "code",
   "execution_count": 37,
   "metadata": {},
   "outputs": [
    {
     "data": {
      "text/plain": [
       "60"
      ]
     },
     "execution_count": 37,
     "metadata": {},
     "output_type": "execute_result"
    }
   ],
   "source": [
    "crear_lista(16)"
   ]
  },
  {
   "cell_type": "markdown",
   "metadata": {},
   "source": [
    "**2.-** Suma de numero pares de la secuencia de Fibonacci (donde resultado es menor a 4.000.000)"
   ]
  },
  {
   "cell_type": "code",
   "execution_count": 64,
   "metadata": {},
   "outputs": [],
   "source": [
    "def suma_pares_fibonacci(limite):\n",
    "    resultado = 0\n",
    "    actual = 0\n",
    "    uno_menos = 2\n",
    "    dos_menos = 1\n",
    "    while actual < limite: \n",
    "        if (actual % 2 == 0):\n",
    "            resultado += actual        \n",
    "        actual = uno_menos + dos_menos\n",
    "        uno_menos = actual\n",
    "        dos_menos = uno_menos\n",
    "    return resultado      \n",
    "        "
   ]
  },
  {
   "cell_type": "code",
   "execution_count": 65,
   "metadata": {},
   "outputs": [
    {
     "data": {
      "text/plain": [
       "92"
      ]
     },
     "execution_count": 65,
     "metadata": {},
     "output_type": "execute_result"
    }
   ],
   "source": [
    "suma_pares_fibonacci(55)"
   ]
  },
  {
   "cell_type": "code",
   "execution_count": null,
   "metadata": {},
   "outputs": [],
   "source": []
  }
 ],
 "metadata": {
  "kernelspec": {
   "display_name": "Python 3",
   "language": "python",
   "name": "python3"
  },
  "language_info": {
   "codemirror_mode": {
    "name": "ipython",
    "version": 3
   },
   "file_extension": ".py",
   "mimetype": "text/x-python",
   "name": "python",
   "nbconvert_exporter": "python",
   "pygments_lexer": "ipython3",
   "version": "3.8.5"
  }
 },
 "nbformat": 4,
 "nbformat_minor": 4
}
