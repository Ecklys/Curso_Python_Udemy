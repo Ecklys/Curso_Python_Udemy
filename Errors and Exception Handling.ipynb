{
 "cells": [
  {
   "cell_type": "markdown",
   "metadata": {},
   "source": [
    "### try, except and finally\n",
    "\n",
    "- **try**: Define el bloque sobre el cual se espera o no un error\n",
    "- **except**: Define el bloque que se ejecutara en caso de encontrar un error en el bloque **try**\n",
    "- **finally**: Define un bloque que siempre será ejecutado luego de un bloque **try**\n",
    "<br> \n",
    "\n",
    "- *Nota*: Es posible utilizar un bloque **else** luego de **except** cuando no se encuentren errores"
   ]
  },
  {
   "cell_type": "code",
   "execution_count": 1,
   "metadata": {},
   "outputs": [
    {
     "name": "stdout",
     "output_type": "stream",
     "text": [
      "You have some kind of error\n",
      "I run no matter what\n"
     ]
    }
   ],
   "source": [
    "try:\n",
    "    new_file = open(\"test_file.txt\",\"r\")\n",
    "    new_file.write(\"New Line\")\n",
    "except TypeError:\n",
    "    print(\"You have a type error\")\n",
    "except:\n",
    "    print(\"You have some kind of error\")\n",
    "finally:\n",
    "    print(\"I run no matter what\")"
   ]
  },
  {
   "cell_type": "code",
   "execution_count": null,
   "metadata": {},
   "outputs": [],
   "source": []
  }
 ],
 "metadata": {
  "kernelspec": {
   "display_name": "Python 3",
   "language": "python",
   "name": "python3"
  },
  "language_info": {
   "codemirror_mode": {
    "name": "ipython",
    "version": 3
   },
   "file_extension": ".py",
   "mimetype": "text/x-python",
   "name": "python",
   "nbconvert_exporter": "python",
   "pygments_lexer": "ipython3",
   "version": "3.8.5"
  }
 },
 "nbformat": 4,
 "nbformat_minor": 4
}
