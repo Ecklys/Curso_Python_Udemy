{
 "cells": [
  {
   "cell_type": "markdown",
   "metadata": {},
   "source": [
    "## Uso de Slices en strings (con step)\n",
    "\n",
    "Es posible indicar step al hacer slices de string para seleccionar solo los caracteres dados por cada paso dentro del rango <br>\n",
    "[begin:end(not included):**step**]"
   ]
  },
  {
   "cell_type": "code",
   "execution_count": 1,
   "metadata": {},
   "outputs": [
    {
     "data": {
      "text/plain": [
       "'Hl ud'"
      ]
     },
     "execution_count": 1,
     "metadata": {},
     "output_type": "execute_result"
    }
   ],
   "source": [
    "mystring = \"Hola Mundo\"\n",
    "mystring[0:10:2]"
   ]
  },
  {
   "cell_type": "markdown",
   "metadata": {},
   "source": [
    "Es posible invertir un string mediante slicing"
   ]
  },
  {
   "cell_type": "code",
   "execution_count": 108,
   "metadata": {},
   "outputs": [
    {
     "data": {
      "text/plain": [
       "'odnuM aloH'"
      ]
     },
     "execution_count": 108,
     "metadata": {},
     "output_type": "execute_result"
    }
   ],
   "source": [
    "mystring[::-1]"
   ]
  },
  {
   "cell_type": "markdown",
   "metadata": {},
   "source": [
    "## Método para formatear strings \n",
    "### .format()\n",
    "\n",
    "Permite ingresar string sobre otro string en el orden en que son ingresados en el método .format (es posible añadir multiples textos"
   ]
  },
  {
   "cell_type": "code",
   "execution_count": 2,
   "metadata": {},
   "outputs": [
    {
     "name": "stdout",
     "output_type": "stream",
     "text": [
      "Estos es una cadéna de texto INSERTADO\n"
     ]
    }
   ],
   "source": [
    "print(\"Estos es una cadéna de texto {}\".format(\"INSERTADO\"))"
   ]
  },
  {
   "cell_type": "markdown",
   "metadata": {},
   "source": [
    "Cada {} corresponde a un índice de los textos ingresados, de la forma **.format(\"<indice 0>\",\"<indice 1>\")** y asi sucesivamente"
   ]
  },
  {
   "cell_type": "code",
   "execution_count": 3,
   "metadata": {},
   "outputs": [
    {
     "name": "stdout",
     "output_type": "stream",
     "text": [
      "Esto es otra cadena de texto\n"
     ]
    }
   ],
   "source": [
    "print(\"Esto es {1} {0} {2}\".format(\"cadena\",\"otra\",\"de texto\"))"
   ]
  },
  {
   "cell_type": "markdown",
   "metadata": {},
   "source": [
    "Es posible asignar cada valor de la cadena de formato a una variable y utilizar la variable al momento de invocarla dentro de {}"
   ]
  },
  {
   "cell_type": "markdown",
   "metadata": {},
   "source": [
    "Mediante format es posible modificar el formato de un número de tipo float, cambiando el número de decimales presentes:\n",
    "**{value:width.precision:f}** donde **width** es el numero de enteros y **precision** el número de decimales deseados"
   ]
  },
  {
   "cell_type": "code",
   "execution_count": 6,
   "metadata": {},
   "outputs": [],
   "source": [
    "numero_decimal = 1.43219863"
   ]
  },
  {
   "cell_type": "code",
   "execution_count": 7,
   "metadata": {},
   "outputs": [
    {
     "name": "stdout",
     "output_type": "stream",
     "text": [
      "El número es: 1.432\n"
     ]
    }
   ],
   "source": [
    "print(\"El número es: {numero:1.3f}\".format(numero=numero_decimal))"
   ]
  },
  {
   "cell_type": "markdown",
   "metadata": {},
   "source": [
    "Desde python 3.6 se permite formatear las cadenas de texto de forma similar a otros lenguajes, de la siguiente forma."
   ]
  },
  {
   "cell_type": "code",
   "execution_count": 8,
   "metadata": {},
   "outputs": [],
   "source": [
    "nombre = \"Seba\""
   ]
  },
  {
   "cell_type": "code",
   "execution_count": 14,
   "metadata": {},
   "outputs": [
    {
     "name": "stdout",
     "output_type": "stream",
     "text": [
      "Hola, mi nombre es Seba\n"
     ]
    }
   ],
   "source": [
    "print(f\"Hola, mi nombre es {nombre}\")"
   ]
  },
  {
   "cell_type": "markdown",
   "metadata": {},
   "source": [
    "## Diccionarios \n",
    "Objetos que contienen elementos correspondientes a pares **{llave:valor}** <br>\n",
    "Las llaves siempre deben ser de tipo **str** <br>\n",
    "Los valores pueden ser de cualquier tipo <br>\n",
    "\n",
    "*NOTA: diccionarios no pueden ser ordenados*"
   ]
  },
  {
   "cell_type": "code",
   "execution_count": 20,
   "metadata": {},
   "outputs": [],
   "source": [
    "my_dict = {\"primer_nombre\":\"Sebastián\", \"segundo_nombre\":\"Nicolás\"}"
   ]
  },
  {
   "cell_type": "code",
   "execution_count": 21,
   "metadata": {},
   "outputs": [
    {
     "name": "stdout",
     "output_type": "stream",
     "text": [
      "{'primer_nombre': 'Sebastián', 'segundo_nombre': 'Nicolás'}\n"
     ]
    }
   ],
   "source": [
    "print(my_dict)"
   ]
  },
  {
   "cell_type": "code",
   "execution_count": 22,
   "metadata": {},
   "outputs": [],
   "source": [
    "diccionario_precios_frutas = {\"manzana\":1.0,\"naranja\":1.2,\"frutilla\":3.2}"
   ]
  },
  {
   "cell_type": "code",
   "execution_count": 26,
   "metadata": {},
   "outputs": [
    {
     "name": "stdout",
     "output_type": "stream",
     "text": [
      "1.0\n"
     ]
    }
   ],
   "source": [
    "print(diccionario_precios_frutas[\"manzana\"])"
   ]
  },
  {
   "cell_type": "markdown",
   "metadata": {},
   "source": [
    "Es posible tener diccionarios anidados y acceder a ellos:"
   ]
  },
  {
   "cell_type": "code",
   "execution_count": 29,
   "metadata": {},
   "outputs": [],
   "source": [
    "diccionario_anidado = {\"1\":{\"nombre\":\"Sebastian\",\"edad\":29},\"2\":{\"nombre\":\"Felipe\",\"edad\":26}}"
   ]
  },
  {
   "cell_type": "code",
   "execution_count": 32,
   "metadata": {},
   "outputs": [
    {
     "data": {
      "text/plain": [
       "{'nombre': 'Sebastian', 'edad': 29}"
      ]
     },
     "execution_count": 32,
     "metadata": {},
     "output_type": "execute_result"
    }
   ],
   "source": [
    "diccionario_anidado[\"1\"]"
   ]
  },
  {
   "cell_type": "code",
   "execution_count": 33,
   "metadata": {},
   "outputs": [
    {
     "data": {
      "text/plain": [
       "'Felipe'"
      ]
     },
     "execution_count": 33,
     "metadata": {},
     "output_type": "execute_result"
    }
   ],
   "source": [
    "diccionario_anidado[\"2\"][\"nombre\"]"
   ]
  },
  {
   "cell_type": "markdown",
   "metadata": {},
   "source": [
    "Agregar nuevos elementos al diccionario"
   ]
  },
  {
   "cell_type": "code",
   "execution_count": 36,
   "metadata": {},
   "outputs": [],
   "source": [
    "diccionario_anidado[\"3\"]={\"nombre\":\"Viviana\",\"edad\":27}"
   ]
  },
  {
   "cell_type": "code",
   "execution_count": 37,
   "metadata": {},
   "outputs": [
    {
     "data": {
      "text/plain": [
       "{'nombre': 'Viviana', 'edad': 27}"
      ]
     },
     "execution_count": 37,
     "metadata": {},
     "output_type": "execute_result"
    }
   ],
   "source": [
    "diccionario_anidado[\"3\"]"
   ]
  },
  {
   "cell_type": "code",
   "execution_count": 38,
   "metadata": {},
   "outputs": [
    {
     "data": {
      "text/plain": [
       "{'1': {'nombre': 'Sebastian', 'edad': 29},\n",
       " '2': {'nombre': 'Felipe', 'edad': 26},\n",
       " '3': {'nombre': 'Viviana', 'edad': 27}}"
      ]
     },
     "execution_count": 38,
     "metadata": {},
     "output_type": "execute_result"
    }
   ],
   "source": [
    "diccionario_anidado"
   ]
  },
  {
   "cell_type": "markdown",
   "metadata": {},
   "source": [
    "Reemplazar el valor de elementos en el diccionario"
   ]
  },
  {
   "cell_type": "code",
   "execution_count": 39,
   "metadata": {},
   "outputs": [],
   "source": [
    "diccionario_anidado[\"3\"][\"edad\"] = 30"
   ]
  },
  {
   "cell_type": "code",
   "execution_count": 40,
   "metadata": {},
   "outputs": [
    {
     "data": {
      "text/plain": [
       "{'1': {'nombre': 'Sebastian', 'edad': 29},\n",
       " '2': {'nombre': 'Felipe', 'edad': 26},\n",
       " '3': {'nombre': 'Viviana', 'edad': 30}}"
      ]
     },
     "execution_count": 40,
     "metadata": {},
     "output_type": "execute_result"
    }
   ],
   "source": [
    "diccionario_anidado"
   ]
  },
  {
   "cell_type": "markdown",
   "metadata": {},
   "source": [
    "**Métodos de interacción con diccionarios** <br>\n",
    "- Obtener las llaves del diccionario"
   ]
  },
  {
   "cell_type": "code",
   "execution_count": 41,
   "metadata": {},
   "outputs": [
    {
     "data": {
      "text/plain": [
       "dict_keys(['1', '2', '3'])"
      ]
     },
     "execution_count": 41,
     "metadata": {},
     "output_type": "execute_result"
    }
   ],
   "source": [
    "diccionario_anidado.keys()"
   ]
  },
  {
   "cell_type": "markdown",
   "metadata": {},
   "source": [
    "- Obtener los valores del diccionario"
   ]
  },
  {
   "cell_type": "code",
   "execution_count": 42,
   "metadata": {},
   "outputs": [
    {
     "data": {
      "text/plain": [
       "dict_values([{'nombre': 'Sebastian', 'edad': 29}, {'nombre': 'Felipe', 'edad': 26}, {'nombre': 'Viviana', 'edad': 30}])"
      ]
     },
     "execution_count": 42,
     "metadata": {},
     "output_type": "execute_result"
    }
   ],
   "source": [
    "diccionario_anidado.values()"
   ]
  },
  {
   "cell_type": "markdown",
   "metadata": {},
   "source": [
    "- Obtener los valores del diccionario en partes (tuplas)"
   ]
  },
  {
   "cell_type": "code",
   "execution_count": 43,
   "metadata": {},
   "outputs": [
    {
     "data": {
      "text/plain": [
       "dict_items([('1', {'nombre': 'Sebastian', 'edad': 29}), ('2', {'nombre': 'Felipe', 'edad': 26}), ('3', {'nombre': 'Viviana', 'edad': 30})])"
      ]
     },
     "execution_count": 43,
     "metadata": {},
     "output_type": "execute_result"
    }
   ],
   "source": [
    "diccionario_anidado.items()"
   ]
  },
  {
   "cell_type": "markdown",
   "metadata": {},
   "source": [
    "## Set \n",
    "Corresponden a colecciones de elementos **únicos**"
   ]
  },
  {
   "cell_type": "code",
   "execution_count": 44,
   "metadata": {},
   "outputs": [],
   "source": [
    "nuevo_set = set()"
   ]
  },
  {
   "cell_type": "code",
   "execution_count": 47,
   "metadata": {},
   "outputs": [
    {
     "data": {
      "text/plain": [
       "set()"
      ]
     },
     "execution_count": 47,
     "metadata": {},
     "output_type": "execute_result"
    }
   ],
   "source": [
    "nuevo_set"
   ]
  },
  {
   "cell_type": "code",
   "execution_count": 48,
   "metadata": {},
   "outputs": [],
   "source": [
    "nuevo_set.add(1)"
   ]
  },
  {
   "cell_type": "code",
   "execution_count": 49,
   "metadata": {},
   "outputs": [
    {
     "data": {
      "text/plain": [
       "{1}"
      ]
     },
     "execution_count": 49,
     "metadata": {},
     "output_type": "execute_result"
    }
   ],
   "source": [
    "nuevo_set"
   ]
  },
  {
   "cell_type": "code",
   "execution_count": 51,
   "metadata": {},
   "outputs": [],
   "source": [
    "nuevo_set.add(2)"
   ]
  },
  {
   "cell_type": "code",
   "execution_count": 52,
   "metadata": {},
   "outputs": [],
   "source": [
    "nuevo_set.add(1)"
   ]
  },
  {
   "cell_type": "code",
   "execution_count": 53,
   "metadata": {},
   "outputs": [
    {
     "data": {
      "text/plain": [
       "{1, 2}"
      ]
     },
     "execution_count": 53,
     "metadata": {},
     "output_type": "execute_result"
    }
   ],
   "source": [
    "nuevo_set"
   ]
  },
  {
   "cell_type": "code",
   "execution_count": 54,
   "metadata": {},
   "outputs": [],
   "source": [
    "mi_lista = [1,1,1,1,1,3,3,3,3,3,3,2,2,2]"
   ]
  },
  {
   "cell_type": "code",
   "execution_count": 55,
   "metadata": {},
   "outputs": [
    {
     "data": {
      "text/plain": [
       "{1, 2, 3}"
      ]
     },
     "execution_count": 55,
     "metadata": {},
     "output_type": "execute_result"
    }
   ],
   "source": [
    "set(mi_lista)"
   ]
  },
  {
   "cell_type": "markdown",
   "metadata": {},
   "source": [
    "## Archivos\n",
    "Es posible escribir archivos en jupyter mediante el siguiente codigo <br>\n",
    "\n",
    "**Primera linea**: codígo para crear archivo a escribir <br>\n",
    "**Resto de líneas**: contenido del archivo a escribir"
   ]
  },
  {
   "cell_type": "code",
   "execution_count": 57,
   "metadata": {},
   "outputs": [
    {
     "name": "stdout",
     "output_type": "stream",
     "text": [
      "Overwriting test_file.txt\n"
     ]
    }
   ],
   "source": [
    "%%writefile test_file.txt\n",
    "First line of the text\n",
    "Second line of the text"
   ]
  },
  {
   "cell_type": "code",
   "execution_count": 59,
   "metadata": {},
   "outputs": [],
   "source": [
    "archivo = open(\"test_file.txt\",\"r\")"
   ]
  },
  {
   "cell_type": "code",
   "execution_count": 61,
   "metadata": {},
   "outputs": [
    {
     "data": {
      "text/plain": [
       "'Second line of the text'"
      ]
     },
     "execution_count": 61,
     "metadata": {},
     "output_type": "execute_result"
    }
   ],
   "source": [
    "archivo.readline().rstrip()"
   ]
  },
  {
   "cell_type": "markdown",
   "metadata": {},
   "source": [
    "Es posible volver al inicio de un archivo mediante la función seek."
   ]
  },
  {
   "cell_type": "code",
   "execution_count": 77,
   "metadata": {},
   "outputs": [
    {
     "ename": "ValueError",
     "evalue": "I/O operation on closed file.",
     "output_type": "error",
     "traceback": [
      "\u001b[1;31m---------------------------------------------------------------------------\u001b[0m",
      "\u001b[1;31mValueError\u001b[0m                                Traceback (most recent call last)",
      "\u001b[1;32m<ipython-input-77-830900d7ec7a>\u001b[0m in \u001b[0;36m<module>\u001b[1;34m\u001b[0m\n\u001b[1;32m----> 1\u001b[1;33m \u001b[0marchivo\u001b[0m\u001b[1;33m.\u001b[0m\u001b[0mseek\u001b[0m\u001b[1;33m(\u001b[0m\u001b[1;36m0\u001b[0m\u001b[1;33m)\u001b[0m\u001b[1;33m\u001b[0m\u001b[1;33m\u001b[0m\u001b[0m\n\u001b[0m",
      "\u001b[1;31mValueError\u001b[0m: I/O operation on closed file."
     ]
    }
   ],
   "source": [
    "archivo.seek(0)"
   ]
  },
  {
   "cell_type": "code",
   "execution_count": 72,
   "metadata": {},
   "outputs": [
    {
     "data": {
      "text/plain": [
       "['First line of the text\\n', 'Second line of the text\\n']"
      ]
     },
     "execution_count": 72,
     "metadata": {},
     "output_type": "execute_result"
    }
   ],
   "source": [
    "archivo.readlines()"
   ]
  },
  {
   "cell_type": "markdown",
   "metadata": {},
   "source": [
    "Es necesario siempre cerrar el archivo para liberar memoria y evitar errores."
   ]
  },
  {
   "cell_type": "code",
   "execution_count": 73,
   "metadata": {},
   "outputs": [],
   "source": [
    "archivo.close()"
   ]
  },
  {
   "cell_type": "markdown",
   "metadata": {},
   "source": [
    "Es posible crear bloques de códigos para manejo de archivos sin necesidad de explicitamente cerrar el archivo"
   ]
  },
  {
   "cell_type": "code",
   "execution_count": 85,
   "metadata": {},
   "outputs": [
    {
     "name": "stdout",
     "output_type": "stream",
     "text": [
      "First line of the text\n",
      "Second line of the text\n",
      "\n"
     ]
    }
   ],
   "source": [
    "with open(\"test_file.txt\",\"r\") as my_test_file:\n",
    "    print (my_test_file.read())    "
   ]
  },
  {
   "cell_type": "markdown",
   "metadata": {},
   "source": [
    "Métodos de apertura de archivos: <br>\n",
    "- **r**: modo solo lectura\n",
    "- **w**: modo solo escritura\n",
    "- **a**: modo escritura para agregar al final del archivo\n",
    "- **r+**: modo lectura y escritura\n",
    "- **w+**: modo escritura y lectura (crea un archivo si no existe, en caso contrario lo sobreescribe)"
   ]
  },
  {
   "cell_type": "code",
   "execution_count": 91,
   "metadata": {},
   "outputs": [],
   "source": [
    "with open(\"test_file.txt\",\"a\") as my_test_file:\n",
    "    my_test_file.write(\"Third line of the text\")"
   ]
  },
  {
   "cell_type": "code",
   "execution_count": 92,
   "metadata": {},
   "outputs": [
    {
     "name": "stdout",
     "output_type": "stream",
     "text": [
      "First line of the text\n",
      "Second line of the text\n",
      "Third line of the textThird line of the textThird line of the text\n",
      "Third line of the text\n"
     ]
    }
   ],
   "source": [
    "with open(\"test_file.txt\",\"r\") as my_test_file:\n",
    "    print (my_test_file.read())   "
   ]
  },
  {
   "cell_type": "code",
   "execution_count": 95,
   "metadata": {},
   "outputs": [],
   "source": [
    "with open(\"test_file.txt\",\"w\") as my_test_file:\n",
    "    my_test_file.write(\"This is a new line of text, because we deleted the previous ones \\n\")"
   ]
  },
  {
   "cell_type": "code",
   "execution_count": 96,
   "metadata": {},
   "outputs": [
    {
     "name": "stdout",
     "output_type": "stream",
     "text": [
      "This is a new line of text, because we deleted the previous ones \n",
      "\n"
     ]
    }
   ],
   "source": [
    "with open(\"test_file.txt\",\"r\") as my_test_file:\n",
    "    print (my_test_file.read()) "
   ]
  },
  {
   "cell_type": "markdown",
   "metadata": {},
   "source": [
    "## Ejercicios Curso\n",
    "\n",
    "-**1.-** Escribir una ecuación que resulte en 100.25 utilizando mult, div, suma, resta y potencia."
   ]
  },
  {
   "cell_type": "code",
   "execution_count": 99,
   "metadata": {},
   "outputs": [
    {
     "name": "stdout",
     "output_type": "stream",
     "text": [
      "100.25\n"
     ]
    }
   ],
   "source": [
    "resultado = (10**2)/20 * 5 + 100 - 24.75\n",
    "print(resultado)"
   ]
  },
  {
   "cell_type": "markdown",
   "metadata": {},
   "source": [
    "-**2.-** Comprobando precedencia de operaciones aritmeticas"
   ]
  },
  {
   "cell_type": "code",
   "execution_count": 105,
   "metadata": {},
   "outputs": [
    {
     "name": "stdout",
     "output_type": "stream",
     "text": [
      "1: 44 \n",
      "2: 29 \n",
      "3: 34\n"
     ]
    }
   ],
   "source": [
    "result_1 = 4 * (6+5)\n",
    "result_2 = 4 * 6 + 5\n",
    "result_3 = 4 + 6 * 5\n",
    "\n",
    "print(\"1: {} \\n2: {} \\n3: {}\".format(result_1,result_2,result_3))"
   ]
  },
  {
   "cell_type": "markdown",
   "metadata": {},
   "source": [
    "-**3.-** Obtener, mediante índices el caracter \"e\" del siguiente string"
   ]
  },
  {
   "cell_type": "code",
   "execution_count": 106,
   "metadata": {},
   "outputs": [
    {
     "name": "stdout",
     "output_type": "stream",
     "text": [
      "e\n"
     ]
    }
   ],
   "source": [
    "s = \"hello\"\n",
    "print (s[1])"
   ]
  },
  {
   "cell_type": "markdown",
   "metadata": {},
   "source": [
    "-**4.-** Invertir string mediante slices"
   ]
  },
  {
   "cell_type": "code",
   "execution_count": 109,
   "metadata": {},
   "outputs": [
    {
     "data": {
      "text/plain": [
       "'olleh'"
      ]
     },
     "execution_count": 109,
     "metadata": {},
     "output_type": "execute_result"
    }
   ],
   "source": [
    "s[::-1]"
   ]
  },
  {
   "cell_type": "markdown",
   "metadata": {},
   "source": [
    "-**5.-** Obtener el caracter \"o\" de dos formas distintas"
   ]
  },
  {
   "cell_type": "code",
   "execution_count": 110,
   "metadata": {},
   "outputs": [
    {
     "data": {
      "text/plain": [
       "'o'"
      ]
     },
     "execution_count": 110,
     "metadata": {},
     "output_type": "execute_result"
    }
   ],
   "source": [
    "s[-1]"
   ]
  },
  {
   "cell_type": "code",
   "execution_count": 111,
   "metadata": {},
   "outputs": [
    {
     "data": {
      "text/plain": [
       "'o'"
      ]
     },
     "execution_count": 111,
     "metadata": {},
     "output_type": "execute_result"
    }
   ],
   "source": [
    "s[4]"
   ]
  },
  {
   "cell_type": "markdown",
   "metadata": {},
   "source": [
    "-**6.-** Crear lista [0,0,0] de dos formas distintas"
   ]
  },
  {
   "cell_type": "code",
   "execution_count": 114,
   "metadata": {},
   "outputs": [],
   "source": [
    "list_1 = [0,0,0]"
   ]
  },
  {
   "cell_type": "code",
   "execution_count": 115,
   "metadata": {},
   "outputs": [],
   "source": [
    "list_2 = []\n",
    "list_2.append(0)\n",
    "list_2.append(0)\n",
    "list_2.append(0)"
   ]
  },
  {
   "cell_type": "code",
   "execution_count": 117,
   "metadata": {},
   "outputs": [
    {
     "name": "stdout",
     "output_type": "stream",
     "text": [
      "[0, 0, 0] [0, 0, 0]\n"
     ]
    }
   ],
   "source": [
    "print(list_1, list_2)"
   ]
  },
  {
   "cell_type": "markdown",
   "metadata": {},
   "source": [
    "-**7.-** Modificar la lista [1,2,[3,4,\"hello\"]] para que diga \"goodbye\" en vez de \"hello\""
   ]
  },
  {
   "cell_type": "code",
   "execution_count": 120,
   "metadata": {},
   "outputs": [
    {
     "name": "stdout",
     "output_type": "stream",
     "text": [
      "[1, 2, [3, 4, 'goodbye']]\n"
     ]
    }
   ],
   "source": [
    "nueva_lista = [1,2,[3,4,\"hello\"]]\n",
    "nueva_lista[2][2] = \"goodbye\"\n",
    "print(nueva_lista)"
   ]
  },
  {
   "cell_type": "markdown",
   "metadata": {},
   "source": [
    "-**8.-** Reordena la siguiente lista [5,3,4,6,1]"
   ]
  },
  {
   "cell_type": "code",
   "execution_count": 122,
   "metadata": {},
   "outputs": [
    {
     "name": "stdout",
     "output_type": "stream",
     "text": [
      "[1, 3, 4, 5, 6]\n"
     ]
    }
   ],
   "source": [
    "nueva_lista = [5,3,4,6,1]\n",
    "nueva_lista.sort()\n",
    "print(nueva_lista)"
   ]
  },
  {
   "cell_type": "markdown",
   "metadata": {},
   "source": [
    "-**9.-** Obtener el string \"hello\" de los siguiente diccionarios"
   ]
  },
  {
   "cell_type": "code",
   "execution_count": 123,
   "metadata": {},
   "outputs": [
    {
     "name": "stdout",
     "output_type": "stream",
     "text": [
      "hello\n"
     ]
    }
   ],
   "source": [
    "d = {\"simple_key\":\"hello\"}\n",
    "print(d[\"simple_key\"])"
   ]
  },
  {
   "cell_type": "code",
   "execution_count": 127,
   "metadata": {},
   "outputs": [
    {
     "name": "stdout",
     "output_type": "stream",
     "text": [
      "hello\n"
     ]
    }
   ],
   "source": [
    "d = {\"k1\":{\"k2\":\"hello\"}}\n",
    "print(d[\"k1\"][\"k2\"])"
   ]
  },
  {
   "cell_type": "code",
   "execution_count": 139,
   "metadata": {},
   "outputs": [],
   "source": [
    "d = {\"k1\":[{\"nest_key\":[\"this is deep\",[\"hello\"]]}]}"
   ]
  },
  {
   "cell_type": "code",
   "execution_count": 140,
   "metadata": {},
   "outputs": [
    {
     "name": "stdout",
     "output_type": "stream",
     "text": [
      "hello\n"
     ]
    }
   ],
   "source": [
    "print(d[\"k1\"][0][\"nest_key\"][1][0])"
   ]
  },
  {
   "cell_type": "code",
   "execution_count": 136,
   "metadata": {},
   "outputs": [
    {
     "name": "stdout",
     "output_type": "stream",
     "text": [
      "hello\n"
     ]
    }
   ],
   "source": [
    "d = {\"k1\":[1,2,{\"k2\":[\"this is tricky\",{\"tough\":[1,2,[\"hello\"]]}]}]}\n",
    "print(d[\"k1\"][2][\"k2\"][1][\"tough\"][2][0])"
   ]
  },
  {
   "cell_type": "markdown",
   "metadata": {},
   "source": [
    "-**10**.- Obtener los valores unicos de la lista [1,2,2,33,4,4,11,22,3,3,2]"
   ]
  },
  {
   "cell_type": "code",
   "execution_count": 135,
   "metadata": {},
   "outputs": [
    {
     "name": "stdout",
     "output_type": "stream",
     "text": [
      "{1, 2, 33, 4, 3, 11, 22}\n"
     ]
    }
   ],
   "source": [
    "nueva_lista = [1,2,2,33,4,4,11,22,3,3,2]\n",
    "print(set(nueva_lista))"
   ]
  },
  {
   "cell_type": "code",
   "execution_count": null,
   "metadata": {},
   "outputs": [],
   "source": []
  }
 ],
 "metadata": {
  "kernelspec": {
   "display_name": "Python 3",
   "language": "python",
   "name": "python3"
  },
  "language_info": {
   "codemirror_mode": {
    "name": "ipython",
    "version": 3
   },
   "file_extension": ".py",
   "mimetype": "text/x-python",
   "name": "python",
   "nbconvert_exporter": "python",
   "pygments_lexer": "ipython3",
   "version": "3.8.5"
  }
 },
 "nbformat": 4,
 "nbformat_minor": 4
}
