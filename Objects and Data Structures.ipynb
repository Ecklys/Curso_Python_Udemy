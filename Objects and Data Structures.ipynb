{
 "cells": [
  {
   "cell_type": "markdown",
   "metadata": {},
   "source": [
    "## Uso de Slices en strings (con step)\n",
    "\n",
    "Es posible indicar step al hacer slices de string para seleccionar solo los caracteres dados por cada paso dentro del rango <br>\n",
    "[begin:end(not included):**step**]"
   ]
  },
  {
   "cell_type": "code",
   "execution_count": 1,
   "metadata": {},
   "outputs": [
    {
     "data": {
      "text/plain": [
       "'Hl ud'"
      ]
     },
     "execution_count": 1,
     "metadata": {},
     "output_type": "execute_result"
    }
   ],
   "source": [
    "mystring = \"Hola Mundo\"\n",
    "mystring[0:10:2]"
   ]
  },
  {
   "cell_type": "markdown",
   "metadata": {},
   "source": [
    "## Método para formatear strings \n",
    "### .format()\n",
    "\n",
    "Permite ingresar string sobre otro string en el orden en que son ingresados en el método .format (es posible añadir multiples textos"
   ]
  },
  {
   "cell_type": "code",
   "execution_count": 2,
   "metadata": {},
   "outputs": [
    {
     "name": "stdout",
     "output_type": "stream",
     "text": [
      "Estos es una cadéna de texto INSERTADO\n"
     ]
    }
   ],
   "source": [
    "print(\"Estos es una cadéna de texto {}\".format(\"INSERTADO\"))"
   ]
  },
  {
   "cell_type": "markdown",
   "metadata": {},
   "source": [
    "Cada {} corresponde a un índice de los textos ingresados, de la forma **.format(\"<indice 0>\",\"<indice 1>\")** y asi sucesivamente"
   ]
  },
  {
   "cell_type": "code",
   "execution_count": 3,
   "metadata": {},
   "outputs": [
    {
     "name": "stdout",
     "output_type": "stream",
     "text": [
      "Esto es otra cadena de texto\n"
     ]
    }
   ],
   "source": [
    "print(\"Esto es {1} {0} {2}\".format(\"cadena\",\"otra\",\"de texto\"))"
   ]
  },
  {
   "cell_type": "markdown",
   "metadata": {},
   "source": [
    "Es posible asignar cada valor de la cadena de formato a una variable y utilizar la variable al momento de invocarla dentro de {}"
   ]
  },
  {
   "cell_type": "markdown",
   "metadata": {},
   "source": [
    "Mediante format es posible modificar el formato de un número de tipo float, cambiando el número de decimales presentes:\n",
    "**{value:width.precision:f}** donde **width** es el largo máximo que se desea del número y **precision** el número de decimales deseados"
   ]
  },
  {
   "cell_type": "code",
   "execution_count": 6,
   "metadata": {},
   "outputs": [],
   "source": [
    "numero_decimal = 1.43219863"
   ]
  },
  {
   "cell_type": "code",
   "execution_count": 7,
   "metadata": {},
   "outputs": [
    {
     "name": "stdout",
     "output_type": "stream",
     "text": [
      "El número es: 1.432\n"
     ]
    }
   ],
   "source": [
    "print(\"El número es: {numero:1.3f}\".format(numero=numero_decimal))"
   ]
  },
  {
   "cell_type": "code",
   "execution_count": null,
   "metadata": {},
   "outputs": [],
   "source": []
  }
 ],
 "metadata": {
  "kernelspec": {
   "display_name": "Python 3",
   "language": "python",
   "name": "python3"
  },
  "language_info": {
   "codemirror_mode": {
    "name": "ipython",
    "version": 3
   },
   "file_extension": ".py",
   "mimetype": "text/x-python",
   "name": "python",
   "nbconvert_exporter": "python",
   "pygments_lexer": "ipython3",
   "version": "3.8.5"
  }
 },
 "nbformat": 4,
 "nbformat_minor": 4
}
