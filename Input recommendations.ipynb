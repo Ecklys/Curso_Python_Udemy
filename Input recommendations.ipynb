{
 "cells": [
  {
   "cell_type": "markdown",
   "metadata": {},
   "source": [
    "## User input validation\n",
    "\n",
    "Es recomendado validar siempre las entradas de datosdel usuario (para evitar casos de borde y errores)"
   ]
  },
  {
   "cell_type": "code",
   "execution_count": null,
   "metadata": {},
   "outputs": [],
   "source": [
    "def user_choice():\n",
    "    \n",
    "    #Valor inicial de choice para primer loop\n",
    "    choice = \"notdigit\"\n",
    "    \n",
    "    #Verificamos que el valor ingresado sea un dígito y se encuentre en el rango aceptado\n",
    "    while choice.isdigit() == False or int(choice) not in range(11):\n",
    "        \n",
    "        choice = input(\"Please enter a number (0-10): \")\n",
    "        \n",
    "        if (choice.isdigit() == False):\n",
    "            print(\"The input is not a digit, please try again.\")\n",
    "            \n",
    "        else:\n",
    "            if(int(choice) not in range(11)):\n",
    "                print(\"The digit is not in the acceptable range (0-10).\")\n",
    "    \n",
    "    return int(choice)"
   ]
  },
  {
   "cell_type": "code",
   "execution_count": null,
   "metadata": {},
   "outputs": [],
   "source": [
    "user_choice()"
   ]
  },
  {
   "cell_type": "code",
   "execution_count": null,
   "metadata": {},
   "outputs": [],
   "source": []
  }
 ],
 "metadata": {
  "kernelspec": {
   "display_name": "Python 3",
   "language": "python",
   "name": "python3"
  },
  "language_info": {
   "codemirror_mode": {
    "name": "ipython",
    "version": 3
   },
   "file_extension": ".py",
   "mimetype": "text/x-python",
   "name": "python",
   "nbconvert_exporter": "python",
   "pygments_lexer": "ipython3",
   "version": "3.8.5"
  }
 },
 "nbformat": 4,
 "nbformat_minor": 4
}
