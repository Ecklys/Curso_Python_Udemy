{
 "cells": [
  {
   "cell_type": "markdown",
   "metadata": {},
   "source": [
    "## Despliegue tablero"
   ]
  },
  {
   "cell_type": "code",
   "execution_count": 64,
   "metadata": {},
   "outputs": [],
   "source": [
    "# Definimos el despliegue del tablero\n",
    "\n",
    "def display_board(current_game_board):\n",
    "    print(\"{}|{}|{}\".format(current_game_board[7],current_game_board[8],current_game_board[9]))\n",
    "    print(\"-----\")\n",
    "    print(\"{}|{}|{}\".format(current_game_board[4],current_game_board[5],current_game_board[6]))\n",
    "    print(\"-----\")\n",
    "    print(\"{}|{}|{}\".format(current_game_board[1],current_game_board[2],current_game_board[3]))\n",
    "    \n",
    "    return "
   ]
  },
  {
   "cell_type": "code",
   "execution_count": 65,
   "metadata": {},
   "outputs": [
    {
     "name": "stdout",
     "output_type": "stream",
     "text": [
      " | | \n",
      "-----\n",
      " | | \n",
      "-----\n",
      " | | \n"
     ]
    }
   ],
   "source": [
    "display_board(game_board)"
   ]
  },
  {
   "cell_type": "markdown",
   "metadata": {},
   "source": [
    "## Elección jugador"
   ]
  },
  {
   "cell_type": "code",
   "execution_count": 92,
   "metadata": {},
   "outputs": [],
   "source": [
    "## Definimos selección de caracter para el jugador 1\n",
    "def player_choice():\n",
    "    \n",
    "    #Inicializamos la variable para almacenar el simbolo a utilizar por el jugador 1\n",
    "    symbol_p1 = \"None\"\n",
    "    symbol_p2 = \"None\"\n",
    "    \n",
    "    #validamos que el simbolo sea aceptable\n",
    "    while symbol_p1 not in [\"X\",\"O\"]:\n",
    "        \n",
    "        symbol_p1 = input(\"Jugador 1, seleccione caracter (X | O): \")\n",
    "        \n",
    "        #En caso que se ingrese otro valor arrojamos un error\n",
    "        if symbol_p1 not in [\"X\",\"O\"]:\n",
    "            print(\"Error, ingrese caracter a utilizar (X | O)\")\n",
    "          \n",
    "            \n",
    "        #Asignamos el simbolo del jugador 2 segun la elección del jugador 1    \n",
    "        if symbol_p1 == \"X\":\n",
    "            symbol_p2 = \"O\"\n",
    "        else:\n",
    "            symbol_p2 = \"X\"\n",
    "    \n",
    "    \n",
    "    return (symbol_p1, symbol_p2)\n",
    "    "
   ]
  },
  {
   "cell_type": "markdown",
   "metadata": {},
   "source": [
    "## Elección posición"
   ]
  },
  {
   "cell_type": "code",
   "execution_count": 79,
   "metadata": {},
   "outputs": [],
   "source": [
    "## Definimos el ingreso de indice a modificar\n",
    "def select_position(player,current_board_avail_index):\n",
    "    \n",
    "    #inicializamos el valor elegido\n",
    "    position = \"noposition\"\n",
    "    \n",
    "    #validamos que sea un número dentro de los índices disponibles\n",
    "    while (position.isdigit() == False) or (position not in board_avail_index):\n",
    "        position = input(\"Jugador {}: Ingrese la posición deseada (1-9): \".format(player))\n",
    "        \n",
    "        if position.isdigit() == False:\n",
    "            print(\"Error, ingrese un dígito\")\n",
    "        \n",
    "        else:\n",
    "            if position not in board_avail_index:\n",
    "                print(\"Error, índice se encuentra fuera de rango o ya fue utilizado\")      \n",
    "                    \n",
    "    current_board_avail_index.remove(position)\n",
    "    return (int(position),current_board_avail_index)\n",
    "    "
   ]
  },
  {
   "cell_type": "code",
   "execution_count": 80,
   "metadata": {},
   "outputs": [
    {
     "name": "stdout",
     "output_type": "stream",
     "text": [
      "Jugador 1: Ingrese la posición deseada (1-9): 1\n",
      "Error, índice se encuentra fuera de rango o ya fue utilizado\n",
      "Jugador 1: Ingrese la posición deseada (1-9): 9\n"
     ]
    },
    {
     "data": {
      "text/plain": [
       "(9, ['2', '3', '4', '5', '6', '7', '8'])"
      ]
     },
     "execution_count": 80,
     "metadata": {},
     "output_type": "execute_result"
    }
   ],
   "source": [
    "select_position(\"1\",board_avail_index)"
   ]
  },
  {
   "cell_type": "markdown",
   "metadata": {},
   "source": [
    "## Actualización tablero"
   ]
  },
  {
   "cell_type": "code",
   "execution_count": 22,
   "metadata": {},
   "outputs": [],
   "source": [
    "#Actualizamos la posición en el tablero con el simbolo del jugador \n",
    "def update_board(current_game_board,position,player_symbol):\n",
    "    current_game_board[position] = player_symbol\n",
    "    \n",
    "    return game_board\n",
    "    "
   ]
  },
  {
   "cell_type": "markdown",
   "metadata": {},
   "source": [
    "## Condiciones de termino de juego"
   ]
  },
  {
   "cell_type": "code",
   "execution_count": 113,
   "metadata": {},
   "outputs": [],
   "source": [
    "#Se detecta si un jugador ha ganado \n",
    "def victory_game(game_board,player_symbol,player):\n",
    "    \n",
    "    #Verificamos si se cumple alguna de las 8 condiciones de victoria\n",
    "    if (game_board[1] == game_board[2] == game_board[3] == player_symbol) or (game_board[4] == game_board[5] == game_board[6] == player_symbol) or (game_board[7] == game_board[8] == game_board[9] == player_symbol) or (game_board[1] == game_board[4] == game_board[7] == player_symbol) or (game_board[2] == game_board[5] == game_board[8] == player_symbol) or (game_board[3] == game_board[6] == game_board[9] == player_symbol) or (game_board[1] == game_board[5] == game_board[9] == player_symbol) or (game_board[3] == game_board[5] == game_board[7] == player_symbol):\n",
    "        clear_output()\n",
    "        display_board(game_board)\n",
    "        print(\"Jugador {} ha ganado la partida\".format(player))\n",
    "        return False\n",
    "    return True\n",
    "        "
   ]
  },
  {
   "cell_type": "code",
   "execution_count": 59,
   "metadata": {},
   "outputs": [
    {
     "name": "stdout",
     "output_type": "stream",
     "text": [
      "Jugador 1 ha ganado la partida\n"
     ]
    },
    {
     "data": {
      "text/plain": [
       "False"
      ]
     },
     "execution_count": 59,
     "metadata": {},
     "output_type": "execute_result"
    }
   ],
   "source": [
    "victory_game([\"tablero\",\"X\",\"X\",\"X\",\"4\",\"5\",\"6\",\"7\",\"8\",\"9\"],\"X\",\"Jugador 1\")"
   ]
  },
  {
   "cell_type": "markdown",
   "metadata": {},
   "source": [
    "## Volver a jugar"
   ]
  },
  {
   "cell_type": "code",
   "execution_count": 103,
   "metadata": {},
   "outputs": [],
   "source": [
    "#Se consulta al usuario si desea seguir jugando\n",
    "def retry():\n",
    "    \n",
    "    #inicializamos variables de juego\n",
    "    keep_playing = \"\"\n",
    "    \n",
    "    #Verificamos que se ingrese uno de los valores aceptados\n",
    "    while keep_playing not in [\"Y\",\"N\"]:\n",
    "        keep_playing = input(\"Desea seguir jugando Y (Seguir jugando) o N (Terminar): \").upper()\n",
    "        \n",
    "        if keep_playing not in [\"Y\",\"N\"]:\n",
    "            print(\"Error, ingrese Y o N\")\n",
    "    \n",
    "    if keep_playing == \"Y\":\n",
    "        return True\n",
    "    else:\n",
    "        return False"
   ]
  },
  {
   "cell_type": "markdown",
   "metadata": {},
   "source": [
    "## Main, uniendo funciones"
   ]
  },
  {
   "cell_type": "code",
   "execution_count": 114,
   "metadata": {},
   "outputs": [
    {
     "name": "stdout",
     "output_type": "stream",
     "text": [
      "X| | \n",
      "-----\n",
      "O|X|O\n",
      "-----\n",
      "X|O|X\n",
      "Jugador 1 ha ganado la partida\n",
      "Desea seguir jugando Y (Seguir jugando) o N (Terminar): n\n"
     ]
    }
   ],
   "source": [
    "from IPython.display import clear_output\n",
    "\n",
    "#Valor inicial para mantenerse jugando\n",
    "keep_playing = True\n",
    "\n",
    "#Inicialización indice elegido por usuario\n",
    "selected_index = \"None\"\n",
    "\n",
    "#Comenzamos el juego (utilizamos un while para mantenerse jugando)\n",
    "while keep_playing:\n",
    "    \n",
    "    #Valor inicial para juego en progreso\n",
    "    ongoing_game = True\n",
    "    \n",
    "    #Inicializamos el valor del jugador actual, se modifica cada vez que avanza un turno\n",
    "    current_player = 1\n",
    "    \n",
    "    #Valor incial del tablero (vacio)\n",
    "    game_board = [\"tablero\",\" \",\" \",\" \",\" \",\" \",\" \",\" \",\" \",\" \"]\n",
    "    \n",
    "    #Inicialización de espacios disponibles en el tablero, a medida que se eligen posiciones estas se remueven de la lista\n",
    "    board_avail_index = [\"1\",\"2\",\"3\",\"4\",\"5\",\"6\",\"7\",\"8\",\"9\"]\n",
    "        \n",
    "    #Seleccionamos los simbolos de ambos jugador \n",
    "    player_symbols = player_choice()\n",
    "       \n",
    "    #Inicialización contador de turnos (Si llega a 10 se considera un empate, pues solo se permiten 9 movimientos)\n",
    "    moves = 0    \n",
    "        \n",
    "    #Juego en progreso (utilizamos un while para cada partida)\n",
    "    while ongoing_game:\n",
    "    \n",
    "        clear_output()\n",
    "        \n",
    "        #mostramos el tablero inicial y las actualizaciones\n",
    "        display_board(game_board) \n",
    "    \n",
    "        if moves == 9:\n",
    "            print(\"Empate!\")  \n",
    "            ongoing_game = False\n",
    "            break        \n",
    "        \n",
    "        #El jugador 1 elige la posición donde comenzar a jugar y actualizamos las posiciones disponibles\n",
    "        selected_index, board_avail_index = select_position(current_player,board_avail_index)\n",
    "    \n",
    "        #Se actualiza el tablero segun la posición del jugador 1\n",
    "        game_board = update_board(game_board,selected_index,player_symbols[current_player-1])\n",
    "                         \n",
    "        #Verificamos si el jugador ha ganado\n",
    "        ongoing_game = victory_game(game_board,player_symbols[current_player-1],current_player)\n",
    "            \n",
    "        #Actualizamos el contador de movimientos por cada turno\n",
    "        moves += 1\n",
    "        \n",
    "        #Actualizamos el jugador actual\n",
    "        if current_player == 1:\n",
    "            current_player = 2\n",
    "        else:\n",
    "            current_player = 1\n",
    "    \n",
    "    #Verificamos si el usuario desea seguir jugando\n",
    "    keep_playing = retry()  \n",
    "\n"
   ]
  },
  {
   "cell_type": "code",
   "execution_count": null,
   "metadata": {},
   "outputs": [],
   "source": []
  },
  {
   "cell_type": "code",
   "execution_count": null,
   "metadata": {},
   "outputs": [],
   "source": []
  }
 ],
 "metadata": {
  "kernelspec": {
   "display_name": "Python 3",
   "language": "python",
   "name": "python3"
  },
  "language_info": {
   "codemirror_mode": {
    "name": "ipython",
    "version": 3
   },
   "file_extension": ".py",
   "mimetype": "text/x-python",
   "name": "python",
   "nbconvert_exporter": "python",
   "pygments_lexer": "ipython3",
   "version": "3.8.5"
  }
 },
 "nbformat": 4,
 "nbformat_minor": 4
}
